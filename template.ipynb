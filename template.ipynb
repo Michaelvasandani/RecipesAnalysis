{
 "cells": [
  {
   "cell_type": "markdown",
   "metadata": {},
   "source": [
    "# Your Title Here\n",
    "\n",
    "**Name(s)**: (your name(s) here)\n",
    "\n",
    "**Website Link**: (your website link)"
   ]
  },
  {
   "cell_type": "code",
   "execution_count": 35,
   "metadata": {
    "ExecuteTime": {
     "end_time": "2019-10-31T23:36:28.652554Z",
     "start_time": "2019-10-31T23:36:27.180520Z"
    }
   },
   "outputs": [],
   "source": [
    "import pandas as pd\n",
    "import numpy as np\n",
    "from pathlib import Path\n",
    "\n",
    "import plotly.express as px\n",
    "pd.options.plotting.backend = 'plotly'\n",
    "\n",
    "# from dsc80_utils import * # Feel free to uncomment and use this."
   ]
  },
  {
   "cell_type": "markdown",
   "metadata": {},
   "source": [
    "## Step 1: Introduction"
   ]
  },
  {
   "cell_type": "code",
   "execution_count": 36,
   "metadata": {},
   "outputs": [],
   "source": [
    "recipes_df = pd.read_csv('data/RAW_recipes.csv')\n"
   ]
  },
  {
   "cell_type": "code",
   "execution_count": 37,
   "metadata": {},
   "outputs": [],
   "source": [
    "recipes_interactions_df = pd.read_csv('data/RAW_interactions.csv')\n"
   ]
  },
  {
   "cell_type": "markdown",
   "metadata": {},
   "source": [
    "## Step 2: Data Cleaning and Exploratory Data Analysis"
   ]
  },
  {
   "cell_type": "code",
   "execution_count": 38,
   "metadata": {},
   "outputs": [
    {
     "data": {
      "text/html": [
       "<div>\n",
       "<style scoped>\n",
       "    .dataframe tbody tr th:only-of-type {\n",
       "        vertical-align: middle;\n",
       "    }\n",
       "\n",
       "    .dataframe tbody tr th {\n",
       "        vertical-align: top;\n",
       "    }\n",
       "\n",
       "    .dataframe thead th {\n",
       "        text-align: right;\n",
       "    }\n",
       "</style>\n",
       "<table border=\"1\" class=\"dataframe\">\n",
       "  <thead>\n",
       "    <tr style=\"text-align: right;\">\n",
       "      <th></th>\n",
       "      <th>name</th>\n",
       "      <th>id</th>\n",
       "      <th>minutes</th>\n",
       "      <th>contributor_id</th>\n",
       "      <th>submitted</th>\n",
       "      <th>tags</th>\n",
       "      <th>nutrition</th>\n",
       "      <th>n_steps</th>\n",
       "      <th>steps</th>\n",
       "      <th>description</th>\n",
       "      <th>ingredients</th>\n",
       "      <th>n_ingredients</th>\n",
       "    </tr>\n",
       "  </thead>\n",
       "  <tbody>\n",
       "    <tr>\n",
       "      <th>0</th>\n",
       "      <td>1 brownies in the world    best ever</td>\n",
       "      <td>333281</td>\n",
       "      <td>40</td>\n",
       "      <td>985201</td>\n",
       "      <td>2008-10-27</td>\n",
       "      <td>['60-minutes-or-less', 'time-to-make', 'course...</td>\n",
       "      <td>[138.4, 10.0, 50.0, 3.0, 3.0, 19.0, 6.0]</td>\n",
       "      <td>10</td>\n",
       "      <td>['heat the oven to 350f and arrange the rack i...</td>\n",
       "      <td>these are the most; chocolatey, moist, rich, d...</td>\n",
       "      <td>['bittersweet chocolate', 'unsalted butter', '...</td>\n",
       "      <td>9</td>\n",
       "    </tr>\n",
       "    <tr>\n",
       "      <th>1</th>\n",
       "      <td>1 in canada chocolate chip cookies</td>\n",
       "      <td>453467</td>\n",
       "      <td>45</td>\n",
       "      <td>1848091</td>\n",
       "      <td>2011-04-11</td>\n",
       "      <td>['60-minutes-or-less', 'time-to-make', 'cuisin...</td>\n",
       "      <td>[595.1, 46.0, 211.0, 22.0, 13.0, 51.0, 26.0]</td>\n",
       "      <td>12</td>\n",
       "      <td>['pre-heat oven the 350 degrees f', 'in a mixi...</td>\n",
       "      <td>this is the recipe that we use at my school ca...</td>\n",
       "      <td>['white sugar', 'brown sugar', 'salt', 'margar...</td>\n",
       "      <td>11</td>\n",
       "    </tr>\n",
       "    <tr>\n",
       "      <th>2</th>\n",
       "      <td>412 broccoli casserole</td>\n",
       "      <td>306168</td>\n",
       "      <td>40</td>\n",
       "      <td>50969</td>\n",
       "      <td>2008-05-30</td>\n",
       "      <td>['60-minutes-or-less', 'time-to-make', 'course...</td>\n",
       "      <td>[194.8, 20.0, 6.0, 32.0, 22.0, 36.0, 3.0]</td>\n",
       "      <td>6</td>\n",
       "      <td>['preheat oven to 350 degrees', 'spray a 2 qua...</td>\n",
       "      <td>since there are already 411 recipes for brocco...</td>\n",
       "      <td>['frozen broccoli cuts', 'cream of chicken sou...</td>\n",
       "      <td>9</td>\n",
       "    </tr>\n",
       "    <tr>\n",
       "      <th>3</th>\n",
       "      <td>millionaire pound cake</td>\n",
       "      <td>286009</td>\n",
       "      <td>120</td>\n",
       "      <td>461724</td>\n",
       "      <td>2008-02-12</td>\n",
       "      <td>['time-to-make', 'course', 'cuisine', 'prepara...</td>\n",
       "      <td>[878.3, 63.0, 326.0, 13.0, 20.0, 123.0, 39.0]</td>\n",
       "      <td>7</td>\n",
       "      <td>['freheat the oven to 300 degrees', 'grease a ...</td>\n",
       "      <td>why a millionaire pound cake?  because it's su...</td>\n",
       "      <td>['butter', 'sugar', 'eggs', 'all-purpose flour...</td>\n",
       "      <td>7</td>\n",
       "    </tr>\n",
       "    <tr>\n",
       "      <th>4</th>\n",
       "      <td>2000 meatloaf</td>\n",
       "      <td>475785</td>\n",
       "      <td>90</td>\n",
       "      <td>2202916</td>\n",
       "      <td>2012-03-06</td>\n",
       "      <td>['time-to-make', 'course', 'main-ingredient', ...</td>\n",
       "      <td>[267.0, 30.0, 12.0, 12.0, 29.0, 48.0, 2.0]</td>\n",
       "      <td>17</td>\n",
       "      <td>['pan fry bacon , and set aside on a paper tow...</td>\n",
       "      <td>ready, set, cook! special edition contest entr...</td>\n",
       "      <td>['meatloaf mixture', 'unsmoked bacon', 'goat c...</td>\n",
       "      <td>13</td>\n",
       "    </tr>\n",
       "  </tbody>\n",
       "</table>\n",
       "</div>"
      ],
      "text/plain": [
       "                                   name      id  minutes  contributor_id  \\\n",
       "0  1 brownies in the world    best ever  333281       40          985201   \n",
       "1    1 in canada chocolate chip cookies  453467       45         1848091   \n",
       "2                412 broccoli casserole  306168       40           50969   \n",
       "3                millionaire pound cake  286009      120          461724   \n",
       "4                         2000 meatloaf  475785       90         2202916   \n",
       "\n",
       "    submitted                                               tags  \\\n",
       "0  2008-10-27  ['60-minutes-or-less', 'time-to-make', 'course...   \n",
       "1  2011-04-11  ['60-minutes-or-less', 'time-to-make', 'cuisin...   \n",
       "2  2008-05-30  ['60-minutes-or-less', 'time-to-make', 'course...   \n",
       "3  2008-02-12  ['time-to-make', 'course', 'cuisine', 'prepara...   \n",
       "4  2012-03-06  ['time-to-make', 'course', 'main-ingredient', ...   \n",
       "\n",
       "                                       nutrition  n_steps  \\\n",
       "0       [138.4, 10.0, 50.0, 3.0, 3.0, 19.0, 6.0]       10   \n",
       "1   [595.1, 46.0, 211.0, 22.0, 13.0, 51.0, 26.0]       12   \n",
       "2      [194.8, 20.0, 6.0, 32.0, 22.0, 36.0, 3.0]        6   \n",
       "3  [878.3, 63.0, 326.0, 13.0, 20.0, 123.0, 39.0]        7   \n",
       "4     [267.0, 30.0, 12.0, 12.0, 29.0, 48.0, 2.0]       17   \n",
       "\n",
       "                                               steps  \\\n",
       "0  ['heat the oven to 350f and arrange the rack i...   \n",
       "1  ['pre-heat oven the 350 degrees f', 'in a mixi...   \n",
       "2  ['preheat oven to 350 degrees', 'spray a 2 qua...   \n",
       "3  ['freheat the oven to 300 degrees', 'grease a ...   \n",
       "4  ['pan fry bacon , and set aside on a paper tow...   \n",
       "\n",
       "                                         description  \\\n",
       "0  these are the most; chocolatey, moist, rich, d...   \n",
       "1  this is the recipe that we use at my school ca...   \n",
       "2  since there are already 411 recipes for brocco...   \n",
       "3  why a millionaire pound cake?  because it's su...   \n",
       "4  ready, set, cook! special edition contest entr...   \n",
       "\n",
       "                                         ingredients  n_ingredients  \n",
       "0  ['bittersweet chocolate', 'unsalted butter', '...              9  \n",
       "1  ['white sugar', 'brown sugar', 'salt', 'margar...             11  \n",
       "2  ['frozen broccoli cuts', 'cream of chicken sou...              9  \n",
       "3  ['butter', 'sugar', 'eggs', 'all-purpose flour...              7  \n",
       "4  ['meatloaf mixture', 'unsmoked bacon', 'goat c...             13  "
      ]
     },
     "execution_count": 38,
     "metadata": {},
     "output_type": "execute_result"
    }
   ],
   "source": [
    "recipes_df.head()"
   ]
  },
  {
   "cell_type": "markdown",
   "metadata": {},
   "source": [
    "This dataset contains a list of recipes and details about the said recipes"
   ]
  },
  {
   "cell_type": "code",
   "execution_count": 39,
   "metadata": {},
   "outputs": [
    {
     "data": {
      "text/html": [
       "<div>\n",
       "<style scoped>\n",
       "    .dataframe tbody tr th:only-of-type {\n",
       "        vertical-align: middle;\n",
       "    }\n",
       "\n",
       "    .dataframe tbody tr th {\n",
       "        vertical-align: top;\n",
       "    }\n",
       "\n",
       "    .dataframe thead th {\n",
       "        text-align: right;\n",
       "    }\n",
       "</style>\n",
       "<table border=\"1\" class=\"dataframe\">\n",
       "  <thead>\n",
       "    <tr style=\"text-align: right;\">\n",
       "      <th></th>\n",
       "      <th>user_id</th>\n",
       "      <th>recipe_id</th>\n",
       "      <th>date</th>\n",
       "      <th>rating</th>\n",
       "      <th>review</th>\n",
       "    </tr>\n",
       "  </thead>\n",
       "  <tbody>\n",
       "    <tr>\n",
       "      <th>0</th>\n",
       "      <td>1293707</td>\n",
       "      <td>40893</td>\n",
       "      <td>2011-12-21</td>\n",
       "      <td>5</td>\n",
       "      <td>So simple, so delicious! Great for chilly fall...</td>\n",
       "    </tr>\n",
       "    <tr>\n",
       "      <th>1</th>\n",
       "      <td>126440</td>\n",
       "      <td>85009</td>\n",
       "      <td>2010-02-27</td>\n",
       "      <td>5</td>\n",
       "      <td>I made the Mexican topping and took it to bunk...</td>\n",
       "    </tr>\n",
       "    <tr>\n",
       "      <th>2</th>\n",
       "      <td>57222</td>\n",
       "      <td>85009</td>\n",
       "      <td>2011-10-01</td>\n",
       "      <td>5</td>\n",
       "      <td>Made the cheddar bacon topping, adding a sprin...</td>\n",
       "    </tr>\n",
       "    <tr>\n",
       "      <th>3</th>\n",
       "      <td>124416</td>\n",
       "      <td>120345</td>\n",
       "      <td>2011-08-06</td>\n",
       "      <td>0</td>\n",
       "      <td>Just an observation, so I will not rate.  I fo...</td>\n",
       "    </tr>\n",
       "    <tr>\n",
       "      <th>4</th>\n",
       "      <td>2000192946</td>\n",
       "      <td>120345</td>\n",
       "      <td>2015-05-10</td>\n",
       "      <td>2</td>\n",
       "      <td>This recipe was OVERLY too sweet.  I would sta...</td>\n",
       "    </tr>\n",
       "  </tbody>\n",
       "</table>\n",
       "</div>"
      ],
      "text/plain": [
       "      user_id  recipe_id        date  rating  \\\n",
       "0     1293707      40893  2011-12-21       5   \n",
       "1      126440      85009  2010-02-27       5   \n",
       "2       57222      85009  2011-10-01       5   \n",
       "3      124416     120345  2011-08-06       0   \n",
       "4  2000192946     120345  2015-05-10       2   \n",
       "\n",
       "                                              review  \n",
       "0  So simple, so delicious! Great for chilly fall...  \n",
       "1  I made the Mexican topping and took it to bunk...  \n",
       "2  Made the cheddar bacon topping, adding a sprin...  \n",
       "3  Just an observation, so I will not rate.  I fo...  \n",
       "4  This recipe was OVERLY too sweet.  I would sta...  "
      ]
     },
     "execution_count": 39,
     "metadata": {},
     "output_type": "execute_result"
    }
   ],
   "source": [
    "recipes_interactions_df.head()"
   ]
  },
  {
   "cell_type": "markdown",
   "metadata": {},
   "source": [
    "Let's find merge the dataframs by recipe_id"
   ]
  },
  {
   "cell_type": "code",
   "execution_count": 40,
   "metadata": {},
   "outputs": [],
   "source": [
    "merged_df = recipes_df.merge(recipes_interactions_df, left_on='id', right_on='recipe_id', how = 'left')"
   ]
  },
  {
   "cell_type": "code",
   "execution_count": 41,
   "metadata": {},
   "outputs": [],
   "source": [
    "merged_df.drop(columns = ['recipe_id'], inplace = True)"
   ]
  },
  {
   "cell_type": "code",
   "execution_count": 42,
   "metadata": {},
   "outputs": [
    {
     "name": "stdout",
     "output_type": "stream",
     "text": [
      "<class 'pandas.core.frame.DataFrame'>\n",
      "RangeIndex: 234429 entries, 0 to 234428\n",
      "Data columns (total 16 columns):\n",
      " #   Column          Non-Null Count   Dtype  \n",
      "---  ------          --------------   -----  \n",
      " 0   name            234428 non-null  object \n",
      " 1   id              234429 non-null  int64  \n",
      " 2   minutes         234429 non-null  int64  \n",
      " 3   contributor_id  234429 non-null  int64  \n",
      " 4   submitted       234429 non-null  object \n",
      " 5   tags            234429 non-null  object \n",
      " 6   nutrition       234429 non-null  object \n",
      " 7   n_steps         234429 non-null  int64  \n",
      " 8   steps           234429 non-null  object \n",
      " 9   description     234315 non-null  object \n",
      " 10  ingredients     234429 non-null  object \n",
      " 11  n_ingredients   234429 non-null  int64  \n",
      " 12  user_id         234428 non-null  float64\n",
      " 13  date            234428 non-null  object \n",
      " 14  rating          234428 non-null  float64\n",
      " 15  review          234371 non-null  object \n",
      "dtypes: float64(2), int64(5), object(9)\n",
      "memory usage: 28.6+ MB\n"
     ]
    }
   ],
   "source": [
    "merged_df.info()"
   ]
  },
  {
   "cell_type": "markdown",
   "metadata": {},
   "source": [
    "There are NaN values in review and description"
   ]
  },
  {
   "cell_type": "code",
   "execution_count": 43,
   "metadata": {},
   "outputs": [
    {
     "data": {
      "text/html": [
       "<div>\n",
       "<style scoped>\n",
       "    .dataframe tbody tr th:only-of-type {\n",
       "        vertical-align: middle;\n",
       "    }\n",
       "\n",
       "    .dataframe tbody tr th {\n",
       "        vertical-align: top;\n",
       "    }\n",
       "\n",
       "    .dataframe thead th {\n",
       "        text-align: right;\n",
       "    }\n",
       "</style>\n",
       "<table border=\"1\" class=\"dataframe\">\n",
       "  <thead>\n",
       "    <tr style=\"text-align: right;\">\n",
       "      <th></th>\n",
       "      <th>id</th>\n",
       "      <th>minutes</th>\n",
       "      <th>contributor_id</th>\n",
       "      <th>n_steps</th>\n",
       "      <th>n_ingredients</th>\n",
       "      <th>user_id</th>\n",
       "      <th>rating</th>\n",
       "    </tr>\n",
       "  </thead>\n",
       "  <tbody>\n",
       "    <tr>\n",
       "      <th>count</th>\n",
       "      <td>234429.000000</td>\n",
       "      <td>2.344290e+05</td>\n",
       "      <td>2.344290e+05</td>\n",
       "      <td>234429.000000</td>\n",
       "      <td>234429.000000</td>\n",
       "      <td>2.344280e+05</td>\n",
       "      <td>234428.000000</td>\n",
       "    </tr>\n",
       "    <tr>\n",
       "      <th>mean</th>\n",
       "      <td>373164.249159</td>\n",
       "      <td>1.067897e+02</td>\n",
       "      <td>1.239254e+07</td>\n",
       "      <td>10.017835</td>\n",
       "      <td>9.071506</td>\n",
       "      <td>2.215493e+08</td>\n",
       "      <td>4.379724</td>\n",
       "    </tr>\n",
       "    <tr>\n",
       "      <th>std</th>\n",
       "      <td>67801.040309</td>\n",
       "      <td>3.285975e+03</td>\n",
       "      <td>1.484917e+08</td>\n",
       "      <td>6.442265</td>\n",
       "      <td>3.823039</td>\n",
       "      <td>6.193941e+08</td>\n",
       "      <td>1.336766</td>\n",
       "    </tr>\n",
       "    <tr>\n",
       "      <th>min</th>\n",
       "      <td>275022.000000</td>\n",
       "      <td>0.000000e+00</td>\n",
       "      <td>1.533000e+03</td>\n",
       "      <td>1.000000</td>\n",
       "      <td>1.000000</td>\n",
       "      <td>1.535000e+03</td>\n",
       "      <td>0.000000</td>\n",
       "    </tr>\n",
       "    <tr>\n",
       "      <th>25%</th>\n",
       "      <td>314272.000000</td>\n",
       "      <td>2.000000e+01</td>\n",
       "      <td>2.166250e+05</td>\n",
       "      <td>6.000000</td>\n",
       "      <td>6.000000</td>\n",
       "      <td>2.263720e+05</td>\n",
       "      <td>4.000000</td>\n",
       "    </tr>\n",
       "    <tr>\n",
       "      <th>50%</th>\n",
       "      <td>363144.000000</td>\n",
       "      <td>3.500000e+01</td>\n",
       "      <td>4.471990e+05</td>\n",
       "      <td>9.000000</td>\n",
       "      <td>9.000000</td>\n",
       "      <td>4.965380e+05</td>\n",
       "      <td>5.000000</td>\n",
       "    </tr>\n",
       "    <tr>\n",
       "      <th>75%</th>\n",
       "      <td>424517.000000</td>\n",
       "      <td>6.000000e+01</td>\n",
       "      <td>7.774530e+05</td>\n",
       "      <td>13.000000</td>\n",
       "      <td>11.000000</td>\n",
       "      <td>1.299206e+06</td>\n",
       "      <td>5.000000</td>\n",
       "    </tr>\n",
       "    <tr>\n",
       "      <th>max</th>\n",
       "      <td>537716.000000</td>\n",
       "      <td>1.051200e+06</td>\n",
       "      <td>2.002290e+09</td>\n",
       "      <td>100.000000</td>\n",
       "      <td>37.000000</td>\n",
       "      <td>2.002372e+09</td>\n",
       "      <td>5.000000</td>\n",
       "    </tr>\n",
       "  </tbody>\n",
       "</table>\n",
       "</div>"
      ],
      "text/plain": [
       "                  id       minutes  contributor_id        n_steps  \\\n",
       "count  234429.000000  2.344290e+05    2.344290e+05  234429.000000   \n",
       "mean   373164.249159  1.067897e+02    1.239254e+07      10.017835   \n",
       "std     67801.040309  3.285975e+03    1.484917e+08       6.442265   \n",
       "min    275022.000000  0.000000e+00    1.533000e+03       1.000000   \n",
       "25%    314272.000000  2.000000e+01    2.166250e+05       6.000000   \n",
       "50%    363144.000000  3.500000e+01    4.471990e+05       9.000000   \n",
       "75%    424517.000000  6.000000e+01    7.774530e+05      13.000000   \n",
       "max    537716.000000  1.051200e+06    2.002290e+09     100.000000   \n",
       "\n",
       "       n_ingredients       user_id         rating  \n",
       "count  234429.000000  2.344280e+05  234428.000000  \n",
       "mean        9.071506  2.215493e+08       4.379724  \n",
       "std         3.823039  6.193941e+08       1.336766  \n",
       "min         1.000000  1.535000e+03       0.000000  \n",
       "25%         6.000000  2.263720e+05       4.000000  \n",
       "50%         9.000000  4.965380e+05       5.000000  \n",
       "75%        11.000000  1.299206e+06       5.000000  \n",
       "max        37.000000  2.002372e+09       5.000000  "
      ]
     },
     "execution_count": 43,
     "metadata": {},
     "output_type": "execute_result"
    }
   ],
   "source": [
    "merged_df.describe()"
   ]
  },
  {
   "cell_type": "markdown",
   "metadata": {},
   "source": [
    "Let's check the distribution of ratings "
   ]
  },
  {
   "cell_type": "markdown",
   "metadata": {},
   "source": [
    "It seems that most people rate things a 0, there are also alot of people who rate things a zero, let's investigate this"
   ]
  },
  {
   "cell_type": "code",
   "execution_count": 44,
   "metadata": {},
   "outputs": [
    {
     "data": {
      "text/html": [
       "<div>\n",
       "<style scoped>\n",
       "    .dataframe tbody tr th:only-of-type {\n",
       "        vertical-align: middle;\n",
       "    }\n",
       "\n",
       "    .dataframe tbody tr th {\n",
       "        vertical-align: top;\n",
       "    }\n",
       "\n",
       "    .dataframe thead th {\n",
       "        text-align: right;\n",
       "    }\n",
       "</style>\n",
       "<table border=\"1\" class=\"dataframe\">\n",
       "  <thead>\n",
       "    <tr style=\"text-align: right;\">\n",
       "      <th></th>\n",
       "      <th>name</th>\n",
       "      <th>id</th>\n",
       "      <th>minutes</th>\n",
       "      <th>contributor_id</th>\n",
       "      <th>submitted</th>\n",
       "      <th>tags</th>\n",
       "      <th>nutrition</th>\n",
       "      <th>n_steps</th>\n",
       "      <th>steps</th>\n",
       "      <th>description</th>\n",
       "      <th>ingredients</th>\n",
       "      <th>n_ingredients</th>\n",
       "      <th>user_id</th>\n",
       "      <th>date</th>\n",
       "      <th>rating</th>\n",
       "      <th>review</th>\n",
       "    </tr>\n",
       "  </thead>\n",
       "  <tbody>\n",
       "    <tr>\n",
       "      <th>11</th>\n",
       "      <td>50 chili   for the crockpot</td>\n",
       "      <td>501028</td>\n",
       "      <td>345</td>\n",
       "      <td>2628680</td>\n",
       "      <td>2013-05-28</td>\n",
       "      <td>['course', 'main-ingredient', 'cuisine', 'prep...</td>\n",
       "      <td>[270.2, 19.0, 26.0, 48.0, 52.0, 21.0, 4.0]</td>\n",
       "      <td>4</td>\n",
       "      <td>['combine all ingredients in a 7-quart crockpo...</td>\n",
       "      <td>first, thank you to *parsley* - chef # 199848 ...</td>\n",
       "      <td>['stewing beef', 'stewing pork', 'white onion'...</td>\n",
       "      <td>22</td>\n",
       "      <td>1.800120e+09</td>\n",
       "      <td>2013-10-26</td>\n",
       "      <td>0.0</td>\n",
       "      <td>We tried it last weekend and it the entire fam...</td>\n",
       "    </tr>\n",
       "    <tr>\n",
       "      <th>16</th>\n",
       "      <td>lplermagronen</td>\n",
       "      <td>455351</td>\n",
       "      <td>55</td>\n",
       "      <td>1308592</td>\n",
       "      <td>2011-05-07</td>\n",
       "      <td>['60-minutes-or-less', 'time-to-make', 'prepar...</td>\n",
       "      <td>[651.8, 33.0, 12.0, 16.0, 32.0, 63.0, 33.0]</td>\n",
       "      <td>15</td>\n",
       "      <td>['heat oven to 375f set a large pot of salted ...</td>\n",
       "      <td>known as swiss mac n cheese, älplermagronen wa...</td>\n",
       "      <td>['potato', 'penne pasta', 'onions', 'butter', ...</td>\n",
       "      <td>8</td>\n",
       "      <td>1.255389e+07</td>\n",
       "      <td>2014-10-17</td>\n",
       "      <td>0.0</td>\n",
       "      <td>I made this using emmentaler, a swiss cheese. ...</td>\n",
       "    </tr>\n",
       "    <tr>\n",
       "      <th>20</th>\n",
       "      <td>der wiener schnitzel style chili dog sauce</td>\n",
       "      <td>523359</td>\n",
       "      <td>55</td>\n",
       "      <td>2000414501</td>\n",
       "      <td>2015-08-27</td>\n",
       "      <td>['60-minutes-or-less', 'time-to-make', 'prepar...</td>\n",
       "      <td>[259.7, 23.0, 18.0, 31.0, 34.0, 28.0, 4.0]</td>\n",
       "      <td>16</td>\n",
       "      <td>['in a large size dutch oven or large size dee...</td>\n",
       "      <td>this was the best chili dog ever invented! i l...</td>\n",
       "      <td>['ground beef', 'ground pork', 'water', 'corns...</td>\n",
       "      <td>14</td>\n",
       "      <td>1.142430e+05</td>\n",
       "      <td>2015-09-05</td>\n",
       "      <td>0.0</td>\n",
       "      <td>This recipe is almost exactly like firemandave...</td>\n",
       "    </tr>\n",
       "    <tr>\n",
       "      <th>94</th>\n",
       "      <td>she crab  cream of crab soup</td>\n",
       "      <td>275675</td>\n",
       "      <td>45</td>\n",
       "      <td>711025</td>\n",
       "      <td>2008-01-02</td>\n",
       "      <td>['60-minutes-or-less', 'time-to-make', 'course...</td>\n",
       "      <td>[777.3, 50.0, 27.0, 144.0, 62.0, 69.0, 12.0]</td>\n",
       "      <td>3</td>\n",
       "      <td>['combine all ingredients in double boiler', '...</td>\n",
       "      <td>i got this recipe from my grandmother, who was...</td>\n",
       "      <td>['cream of mushroom soup', 'cream of celery so...</td>\n",
       "      <td>10</td>\n",
       "      <td>7.181310e+05</td>\n",
       "      <td>2008-01-13</td>\n",
       "      <td>0.0</td>\n",
       "      <td>Me and my wife made this recipe tonight. Somew...</td>\n",
       "    </tr>\n",
       "    <tr>\n",
       "      <th>95</th>\n",
       "      <td>she crab  cream of crab soup</td>\n",
       "      <td>275675</td>\n",
       "      <td>45</td>\n",
       "      <td>711025</td>\n",
       "      <td>2008-01-02</td>\n",
       "      <td>['60-minutes-or-less', 'time-to-make', 'course...</td>\n",
       "      <td>[777.3, 50.0, 27.0, 144.0, 62.0, 69.0, 12.0]</td>\n",
       "      <td>3</td>\n",
       "      <td>['combine all ingredients in double boiler', '...</td>\n",
       "      <td>i got this recipe from my grandmother, who was...</td>\n",
       "      <td>['cream of mushroom soup', 'cream of celery so...</td>\n",
       "      <td>10</td>\n",
       "      <td>2.067470e+05</td>\n",
       "      <td>2008-01-15</td>\n",
       "      <td>0.0</td>\n",
       "      <td>NO ONE from Maryland will appreciate this if y...</td>\n",
       "    </tr>\n",
       "  </tbody>\n",
       "</table>\n",
       "</div>"
      ],
      "text/plain": [
       "                                          name      id  minutes  \\\n",
       "11                 50 chili   for the crockpot  501028      345   \n",
       "16                               lplermagronen  455351       55   \n",
       "20  der wiener schnitzel style chili dog sauce  523359       55   \n",
       "94                she crab  cream of crab soup  275675       45   \n",
       "95                she crab  cream of crab soup  275675       45   \n",
       "\n",
       "    contributor_id   submitted  \\\n",
       "11         2628680  2013-05-28   \n",
       "16         1308592  2011-05-07   \n",
       "20      2000414501  2015-08-27   \n",
       "94          711025  2008-01-02   \n",
       "95          711025  2008-01-02   \n",
       "\n",
       "                                                 tags  \\\n",
       "11  ['course', 'main-ingredient', 'cuisine', 'prep...   \n",
       "16  ['60-minutes-or-less', 'time-to-make', 'prepar...   \n",
       "20  ['60-minutes-or-less', 'time-to-make', 'prepar...   \n",
       "94  ['60-minutes-or-less', 'time-to-make', 'course...   \n",
       "95  ['60-minutes-or-less', 'time-to-make', 'course...   \n",
       "\n",
       "                                       nutrition  n_steps  \\\n",
       "11    [270.2, 19.0, 26.0, 48.0, 52.0, 21.0, 4.0]        4   \n",
       "16   [651.8, 33.0, 12.0, 16.0, 32.0, 63.0, 33.0]       15   \n",
       "20    [259.7, 23.0, 18.0, 31.0, 34.0, 28.0, 4.0]       16   \n",
       "94  [777.3, 50.0, 27.0, 144.0, 62.0, 69.0, 12.0]        3   \n",
       "95  [777.3, 50.0, 27.0, 144.0, 62.0, 69.0, 12.0]        3   \n",
       "\n",
       "                                                steps  \\\n",
       "11  ['combine all ingredients in a 7-quart crockpo...   \n",
       "16  ['heat oven to 375f set a large pot of salted ...   \n",
       "20  ['in a large size dutch oven or large size dee...   \n",
       "94  ['combine all ingredients in double boiler', '...   \n",
       "95  ['combine all ingredients in double boiler', '...   \n",
       "\n",
       "                                          description  \\\n",
       "11  first, thank you to *parsley* - chef # 199848 ...   \n",
       "16  known as swiss mac n cheese, älplermagronen wa...   \n",
       "20  this was the best chili dog ever invented! i l...   \n",
       "94  i got this recipe from my grandmother, who was...   \n",
       "95  i got this recipe from my grandmother, who was...   \n",
       "\n",
       "                                          ingredients  n_ingredients  \\\n",
       "11  ['stewing beef', 'stewing pork', 'white onion'...             22   \n",
       "16  ['potato', 'penne pasta', 'onions', 'butter', ...              8   \n",
       "20  ['ground beef', 'ground pork', 'water', 'corns...             14   \n",
       "94  ['cream of mushroom soup', 'cream of celery so...             10   \n",
       "95  ['cream of mushroom soup', 'cream of celery so...             10   \n",
       "\n",
       "         user_id        date  rating  \\\n",
       "11  1.800120e+09  2013-10-26     0.0   \n",
       "16  1.255389e+07  2014-10-17     0.0   \n",
       "20  1.142430e+05  2015-09-05     0.0   \n",
       "94  7.181310e+05  2008-01-13     0.0   \n",
       "95  2.067470e+05  2008-01-15     0.0   \n",
       "\n",
       "                                               review  \n",
       "11  We tried it last weekend and it the entire fam...  \n",
       "16  I made this using emmentaler, a swiss cheese. ...  \n",
       "20  This recipe is almost exactly like firemandave...  \n",
       "94  Me and my wife made this recipe tonight. Somew...  \n",
       "95  NO ONE from Maryland will appreciate this if y...  "
      ]
     },
     "execution_count": 44,
     "metadata": {},
     "output_type": "execute_result"
    }
   ],
   "source": [
    "merged_df[merged_df['rating'] == 0 ].head()"
   ]
  },
  {
   "cell_type": "markdown",
   "metadata": {},
   "source": [
    "It's unsual if there is a rating of 0 as usually ratings are on a scale from 1-5, let's fill the 0 values with np.nan"
   ]
  },
  {
   "cell_type": "code",
   "execution_count": 45,
   "metadata": {},
   "outputs": [
    {
     "name": "stderr",
     "output_type": "stream",
     "text": [
      "/var/folders/xj/9k1vk1y543g0n6yx1n3b9zxw0000gn/T/ipykernel_64715/1236019410.py:1: FutureWarning:\n",
      "\n",
      "A value is trying to be set on a copy of a DataFrame or Series through chained assignment using an inplace method.\n",
      "The behavior will change in pandas 3.0. This inplace method will never work because the intermediate object on which we are setting values always behaves as a copy.\n",
      "\n",
      "For example, when doing 'df[col].method(value, inplace=True)', try using 'df.method({col: value}, inplace=True)' or df[col] = df[col].method(value) instead, to perform the operation inplace on the original object.\n",
      "\n",
      "\n",
      "\n"
     ]
    }
   ],
   "source": [
    "merged_df['rating'].replace(0, np.nan, inplace = True)"
   ]
  },
  {
   "cell_type": "markdown",
   "metadata": {},
   "source": [
    "We want to make seperate columns for each macronutrient as this would make analyzing them easier"
   ]
  },
  {
   "cell_type": "code",
   "execution_count": 46,
   "metadata": {},
   "outputs": [
    {
     "data": {
      "text/plain": [
       "'[138.4, 10.0, 50.0, 3.0, 3.0, 19.0, 6.0]'"
      ]
     },
     "execution_count": 46,
     "metadata": {},
     "output_type": "execute_result"
    }
   ],
   "source": [
    "merged_df['nutrition'].iloc[0]"
   ]
  },
  {
   "cell_type": "markdown",
   "metadata": {},
   "source": [
    "Nutrition data is formated like this [calories (#), total fat (PDV), sugar (PDV), sodium (PDV), protein (PDV), saturated fat (PDV), carbohydrates (PDV)], let's seperate this data to get invidual columns for each  nutrient"
   ]
  },
  {
   "cell_type": "code",
   "execution_count": 47,
   "metadata": {},
   "outputs": [
    {
     "data": {
      "text/plain": [
       "['138.4', '10.0', '50.0', '3.0', '3.0', '19.0', '6.0']"
      ]
     },
     "execution_count": 47,
     "metadata": {},
     "output_type": "execute_result"
    }
   ],
   "source": [
    "merged_df['nutrition'][0].strip('[]').split(', ')"
   ]
  },
  {
   "cell_type": "markdown",
   "metadata": {},
   "source": [
    "We walso want to check if the nutrition column contains all these values or not, we can do this by checking the length of every nutrition"
   ]
  },
  {
   "cell_type": "code",
   "execution_count": 48,
   "metadata": {},
   "outputs": [],
   "source": [
    "format_nutrition =  ['calories (#)', 'total fat (PDV)', 'sugar (PDV)', 'sodium (PDV)', 'protein (PDV)', 'saturated fat (PDV)', 'carbohydrates (PDV)']"
   ]
  },
  {
   "cell_type": "code",
   "execution_count": 49,
   "metadata": {},
   "outputs": [],
   "source": [
    "nutrition_length = merged_df['nutrition'].str.strip('[]').str.split(', ').str.len()"
   ]
  },
  {
   "cell_type": "code",
   "execution_count": 50,
   "metadata": {},
   "outputs": [
    {
     "data": {
      "text/plain": [
       "nutrition\n",
       "7    234429\n",
       "Name: count, dtype: int64"
      ]
     },
     "execution_count": 50,
     "metadata": {},
     "output_type": "execute_result"
    }
   ],
   "source": [
    "nutrition_length.value_counts()"
   ]
  },
  {
   "cell_type": "markdown",
   "metadata": {},
   "source": [
    "from this we know that the data is all formatted the same way"
   ]
  },
  {
   "cell_type": "code",
   "execution_count": 51,
   "metadata": {},
   "outputs": [
    {
     "name": "stdout",
     "output_type": "stream",
     "text": [
      "0 calories (#)\n",
      "1 total fat (PDV)\n",
      "2 sugar (PDV)\n",
      "3 sodium (PDV)\n",
      "4 protein (PDV)\n",
      "5 saturated fat (PDV)\n",
      "6 carbohydrates (PDV)\n"
     ]
    }
   ],
   "source": [
    "for index, nutrition in enumerate(format_nutrition):\n",
    "    print(index, nutrition)"
   ]
  },
  {
   "cell_type": "code",
   "execution_count": 52,
   "metadata": {},
   "outputs": [],
   "source": [
    "for index, nutrition in enumerate(format_nutrition):\n",
    "    merged_df[nutrition] = merged_df['nutrition'].apply(lambda x: float(x.strip('[]').split(', ')[index]))"
   ]
  },
  {
   "cell_type": "code",
   "execution_count": 53,
   "metadata": {},
   "outputs": [
    {
     "data": {
      "text/html": [
       "<div>\n",
       "<style scoped>\n",
       "    .dataframe tbody tr th:only-of-type {\n",
       "        vertical-align: middle;\n",
       "    }\n",
       "\n",
       "    .dataframe tbody tr th {\n",
       "        vertical-align: top;\n",
       "    }\n",
       "\n",
       "    .dataframe thead th {\n",
       "        text-align: right;\n",
       "    }\n",
       "</style>\n",
       "<table border=\"1\" class=\"dataframe\">\n",
       "  <thead>\n",
       "    <tr style=\"text-align: right;\">\n",
       "      <th></th>\n",
       "      <th>name</th>\n",
       "      <th>id</th>\n",
       "      <th>minutes</th>\n",
       "      <th>contributor_id</th>\n",
       "      <th>submitted</th>\n",
       "      <th>tags</th>\n",
       "      <th>nutrition</th>\n",
       "      <th>n_steps</th>\n",
       "      <th>steps</th>\n",
       "      <th>description</th>\n",
       "      <th>...</th>\n",
       "      <th>date</th>\n",
       "      <th>rating</th>\n",
       "      <th>review</th>\n",
       "      <th>calories (#)</th>\n",
       "      <th>total fat (PDV)</th>\n",
       "      <th>sugar (PDV)</th>\n",
       "      <th>sodium (PDV)</th>\n",
       "      <th>protein (PDV)</th>\n",
       "      <th>saturated fat (PDV)</th>\n",
       "      <th>carbohydrates (PDV)</th>\n",
       "    </tr>\n",
       "  </thead>\n",
       "  <tbody>\n",
       "    <tr>\n",
       "      <th>0</th>\n",
       "      <td>1 brownies in the world    best ever</td>\n",
       "      <td>333281</td>\n",
       "      <td>40</td>\n",
       "      <td>985201</td>\n",
       "      <td>2008-10-27</td>\n",
       "      <td>['60-minutes-or-less', 'time-to-make', 'course...</td>\n",
       "      <td>[138.4, 10.0, 50.0, 3.0, 3.0, 19.0, 6.0]</td>\n",
       "      <td>10</td>\n",
       "      <td>['heat the oven to 350f and arrange the rack i...</td>\n",
       "      <td>these are the most; chocolatey, moist, rich, d...</td>\n",
       "      <td>...</td>\n",
       "      <td>2008-11-19</td>\n",
       "      <td>4.0</td>\n",
       "      <td>These were pretty good, but took forever to ba...</td>\n",
       "      <td>138.4</td>\n",
       "      <td>10.0</td>\n",
       "      <td>50.0</td>\n",
       "      <td>3.0</td>\n",
       "      <td>3.0</td>\n",
       "      <td>19.0</td>\n",
       "      <td>6.0</td>\n",
       "    </tr>\n",
       "    <tr>\n",
       "      <th>1</th>\n",
       "      <td>1 in canada chocolate chip cookies</td>\n",
       "      <td>453467</td>\n",
       "      <td>45</td>\n",
       "      <td>1848091</td>\n",
       "      <td>2011-04-11</td>\n",
       "      <td>['60-minutes-or-less', 'time-to-make', 'cuisin...</td>\n",
       "      <td>[595.1, 46.0, 211.0, 22.0, 13.0, 51.0, 26.0]</td>\n",
       "      <td>12</td>\n",
       "      <td>['pre-heat oven the 350 degrees f', 'in a mixi...</td>\n",
       "      <td>this is the recipe that we use at my school ca...</td>\n",
       "      <td>...</td>\n",
       "      <td>2012-01-26</td>\n",
       "      <td>5.0</td>\n",
       "      <td>Originally I was gonna cut the recipe in half ...</td>\n",
       "      <td>595.1</td>\n",
       "      <td>46.0</td>\n",
       "      <td>211.0</td>\n",
       "      <td>22.0</td>\n",
       "      <td>13.0</td>\n",
       "      <td>51.0</td>\n",
       "      <td>26.0</td>\n",
       "    </tr>\n",
       "    <tr>\n",
       "      <th>2</th>\n",
       "      <td>412 broccoli casserole</td>\n",
       "      <td>306168</td>\n",
       "      <td>40</td>\n",
       "      <td>50969</td>\n",
       "      <td>2008-05-30</td>\n",
       "      <td>['60-minutes-or-less', 'time-to-make', 'course...</td>\n",
       "      <td>[194.8, 20.0, 6.0, 32.0, 22.0, 36.0, 3.0]</td>\n",
       "      <td>6</td>\n",
       "      <td>['preheat oven to 350 degrees', 'spray a 2 qua...</td>\n",
       "      <td>since there are already 411 recipes for brocco...</td>\n",
       "      <td>...</td>\n",
       "      <td>2008-12-31</td>\n",
       "      <td>5.0</td>\n",
       "      <td>This was one of the best broccoli casseroles t...</td>\n",
       "      <td>194.8</td>\n",
       "      <td>20.0</td>\n",
       "      <td>6.0</td>\n",
       "      <td>32.0</td>\n",
       "      <td>22.0</td>\n",
       "      <td>36.0</td>\n",
       "      <td>3.0</td>\n",
       "    </tr>\n",
       "    <tr>\n",
       "      <th>3</th>\n",
       "      <td>412 broccoli casserole</td>\n",
       "      <td>306168</td>\n",
       "      <td>40</td>\n",
       "      <td>50969</td>\n",
       "      <td>2008-05-30</td>\n",
       "      <td>['60-minutes-or-less', 'time-to-make', 'course...</td>\n",
       "      <td>[194.8, 20.0, 6.0, 32.0, 22.0, 36.0, 3.0]</td>\n",
       "      <td>6</td>\n",
       "      <td>['preheat oven to 350 degrees', 'spray a 2 qua...</td>\n",
       "      <td>since there are already 411 recipes for brocco...</td>\n",
       "      <td>...</td>\n",
       "      <td>2009-04-13</td>\n",
       "      <td>5.0</td>\n",
       "      <td>I made this for my son's first birthday party ...</td>\n",
       "      <td>194.8</td>\n",
       "      <td>20.0</td>\n",
       "      <td>6.0</td>\n",
       "      <td>32.0</td>\n",
       "      <td>22.0</td>\n",
       "      <td>36.0</td>\n",
       "      <td>3.0</td>\n",
       "    </tr>\n",
       "    <tr>\n",
       "      <th>4</th>\n",
       "      <td>412 broccoli casserole</td>\n",
       "      <td>306168</td>\n",
       "      <td>40</td>\n",
       "      <td>50969</td>\n",
       "      <td>2008-05-30</td>\n",
       "      <td>['60-minutes-or-less', 'time-to-make', 'course...</td>\n",
       "      <td>[194.8, 20.0, 6.0, 32.0, 22.0, 36.0, 3.0]</td>\n",
       "      <td>6</td>\n",
       "      <td>['preheat oven to 350 degrees', 'spray a 2 qua...</td>\n",
       "      <td>since there are already 411 recipes for brocco...</td>\n",
       "      <td>...</td>\n",
       "      <td>2013-08-02</td>\n",
       "      <td>5.0</td>\n",
       "      <td>Loved this.  Be sure to completely thaw the br...</td>\n",
       "      <td>194.8</td>\n",
       "      <td>20.0</td>\n",
       "      <td>6.0</td>\n",
       "      <td>32.0</td>\n",
       "      <td>22.0</td>\n",
       "      <td>36.0</td>\n",
       "      <td>3.0</td>\n",
       "    </tr>\n",
       "  </tbody>\n",
       "</table>\n",
       "<p>5 rows × 23 columns</p>\n",
       "</div>"
      ],
      "text/plain": [
       "                                   name      id  minutes  contributor_id  \\\n",
       "0  1 brownies in the world    best ever  333281       40          985201   \n",
       "1    1 in canada chocolate chip cookies  453467       45         1848091   \n",
       "2                412 broccoli casserole  306168       40           50969   \n",
       "3                412 broccoli casserole  306168       40           50969   \n",
       "4                412 broccoli casserole  306168       40           50969   \n",
       "\n",
       "    submitted                                               tags  \\\n",
       "0  2008-10-27  ['60-minutes-or-less', 'time-to-make', 'course...   \n",
       "1  2011-04-11  ['60-minutes-or-less', 'time-to-make', 'cuisin...   \n",
       "2  2008-05-30  ['60-minutes-or-less', 'time-to-make', 'course...   \n",
       "3  2008-05-30  ['60-minutes-or-less', 'time-to-make', 'course...   \n",
       "4  2008-05-30  ['60-minutes-or-less', 'time-to-make', 'course...   \n",
       "\n",
       "                                      nutrition  n_steps  \\\n",
       "0      [138.4, 10.0, 50.0, 3.0, 3.0, 19.0, 6.0]       10   \n",
       "1  [595.1, 46.0, 211.0, 22.0, 13.0, 51.0, 26.0]       12   \n",
       "2     [194.8, 20.0, 6.0, 32.0, 22.0, 36.0, 3.0]        6   \n",
       "3     [194.8, 20.0, 6.0, 32.0, 22.0, 36.0, 3.0]        6   \n",
       "4     [194.8, 20.0, 6.0, 32.0, 22.0, 36.0, 3.0]        6   \n",
       "\n",
       "                                               steps  \\\n",
       "0  ['heat the oven to 350f and arrange the rack i...   \n",
       "1  ['pre-heat oven the 350 degrees f', 'in a mixi...   \n",
       "2  ['preheat oven to 350 degrees', 'spray a 2 qua...   \n",
       "3  ['preheat oven to 350 degrees', 'spray a 2 qua...   \n",
       "4  ['preheat oven to 350 degrees', 'spray a 2 qua...   \n",
       "\n",
       "                                         description  ...        date  rating  \\\n",
       "0  these are the most; chocolatey, moist, rich, d...  ...  2008-11-19     4.0   \n",
       "1  this is the recipe that we use at my school ca...  ...  2012-01-26     5.0   \n",
       "2  since there are already 411 recipes for brocco...  ...  2008-12-31     5.0   \n",
       "3  since there are already 411 recipes for brocco...  ...  2009-04-13     5.0   \n",
       "4  since there are already 411 recipes for brocco...  ...  2013-08-02     5.0   \n",
       "\n",
       "                                              review calories (#)  \\\n",
       "0  These were pretty good, but took forever to ba...        138.4   \n",
       "1  Originally I was gonna cut the recipe in half ...        595.1   \n",
       "2  This was one of the best broccoli casseroles t...        194.8   \n",
       "3  I made this for my son's first birthday party ...        194.8   \n",
       "4  Loved this.  Be sure to completely thaw the br...        194.8   \n",
       "\n",
       "   total fat (PDV) sugar (PDV)  sodium (PDV)  protein (PDV)  \\\n",
       "0             10.0        50.0           3.0            3.0   \n",
       "1             46.0       211.0          22.0           13.0   \n",
       "2             20.0         6.0          32.0           22.0   \n",
       "3             20.0         6.0          32.0           22.0   \n",
       "4             20.0         6.0          32.0           22.0   \n",
       "\n",
       "   saturated fat (PDV)  carbohydrates (PDV)  \n",
       "0                 19.0                  6.0  \n",
       "1                 51.0                 26.0  \n",
       "2                 36.0                  3.0  \n",
       "3                 36.0                  3.0  \n",
       "4                 36.0                  3.0  \n",
       "\n",
       "[5 rows x 23 columns]"
      ]
     },
     "execution_count": 53,
     "metadata": {},
     "output_type": "execute_result"
    }
   ],
   "source": [
    "merged_df.head()"
   ]
  },
  {
   "cell_type": "markdown",
   "metadata": {},
   "source": [
    "One problem is that we the nutrient values are in PDV format, we want to convert it to grams. We'll use the the FDA guidelines for reccomended daily nutrient intake to convert these values into grams: <br>\n",
    "Total Fat: 78g <br>\n",
    "Saturated Fat: 20g <br>\n",
    "Carbohydrates: 275g <br>\n",
    "Sugars: No official FDA guideline for daily value (assumed 50g for added sugars) <br>\n",
    "Protein: 50g <br>\n",
    "Sodium: 2300mg (convert to grams: 2.3g) <br>\n",
    "Calories: Calories are not measured in grams, so this will remain unchanged. <br>"
   ]
  },
  {
   "cell_type": "code",
   "execution_count": 54,
   "metadata": {},
   "outputs": [],
   "source": [
    "CONVERSION_FACTORS = {\n",
    "    'calories': 1,\n",
    "    'total_fat': 78,  # grams\n",
    "    'sugar': 50,  # assumed 50g as daily value for sugar\n",
    "    'sodium': 2.3,  # 2300 mg converted to 2.3 grams\n",
    "    'protein': 50,  # grams\n",
    "    'saturated_fat': 20,  # grams\n",
    "    'carbohydrates': 275  # grams\n",
    "\n",
    "}\n",
    "factors = CONVERSION_FACTORS.values()"
   ]
  },
  {
   "cell_type": "code",
   "execution_count": 55,
   "metadata": {},
   "outputs": [],
   "source": [
    "factors_list = list(factors)"
   ]
  },
  {
   "cell_type": "code",
   "execution_count": 56,
   "metadata": {},
   "outputs": [],
   "source": [
    "for index, nutrition in enumerate(format_nutrition):\n",
    "    title = f'{nutrition} (grams)'\n",
    "    merged_df[title] = merged_df[nutrition] * factors_list[index]"
   ]
  },
  {
   "cell_type": "code",
   "execution_count": 57,
   "metadata": {},
   "outputs": [],
   "source": [
    "merged_df.drop(columns = ['nutrition'])\n",
    "merged_df.drop(columns = ['calories (#) (grams)'], inplace = True)"
   ]
  },
  {
   "cell_type": "code",
   "execution_count": 60,
   "metadata": {},
   "outputs": [
    {
     "data": {
      "text/html": [
       "<div>\n",
       "<style scoped>\n",
       "    .dataframe tbody tr th:only-of-type {\n",
       "        vertical-align: middle;\n",
       "    }\n",
       "\n",
       "    .dataframe tbody tr th {\n",
       "        vertical-align: top;\n",
       "    }\n",
       "\n",
       "    .dataframe thead th {\n",
       "        text-align: right;\n",
       "    }\n",
       "</style>\n",
       "<table border=\"1\" class=\"dataframe\">\n",
       "  <thead>\n",
       "    <tr style=\"text-align: right;\">\n",
       "      <th></th>\n",
       "      <th>name</th>\n",
       "      <th>id</th>\n",
       "      <th>minutes</th>\n",
       "      <th>contributor_id</th>\n",
       "      <th>submitted</th>\n",
       "      <th>tags</th>\n",
       "      <th>nutrition</th>\n",
       "      <th>n_steps</th>\n",
       "      <th>steps</th>\n",
       "      <th>description</th>\n",
       "      <th>...</th>\n",
       "      <th>sodium (PDV)</th>\n",
       "      <th>protein (PDV)</th>\n",
       "      <th>saturated fat (PDV)</th>\n",
       "      <th>carbohydrates (PDV)</th>\n",
       "      <th>total fat (PDV) (grams)</th>\n",
       "      <th>sugar (PDV) (grams)</th>\n",
       "      <th>sodium (PDV) (grams)</th>\n",
       "      <th>protein (PDV) (grams)</th>\n",
       "      <th>saturated fat (PDV) (grams)</th>\n",
       "      <th>carbohydrates (PDV) (grams)</th>\n",
       "    </tr>\n",
       "  </thead>\n",
       "  <tbody>\n",
       "    <tr>\n",
       "      <th>0</th>\n",
       "      <td>1 brownies in the world    best ever</td>\n",
       "      <td>333281</td>\n",
       "      <td>40</td>\n",
       "      <td>985201</td>\n",
       "      <td>2008-10-27</td>\n",
       "      <td>['60-minutes-or-less', 'time-to-make', 'course...</td>\n",
       "      <td>[138.4, 10.0, 50.0, 3.0, 3.0, 19.0, 6.0]</td>\n",
       "      <td>10</td>\n",
       "      <td>['heat the oven to 350f and arrange the rack i...</td>\n",
       "      <td>these are the most; chocolatey, moist, rich, d...</td>\n",
       "      <td>...</td>\n",
       "      <td>3.0</td>\n",
       "      <td>3.0</td>\n",
       "      <td>19.0</td>\n",
       "      <td>6.0</td>\n",
       "      <td>780.0</td>\n",
       "      <td>2500.0</td>\n",
       "      <td>6.9</td>\n",
       "      <td>150.0</td>\n",
       "      <td>380.0</td>\n",
       "      <td>1650.0</td>\n",
       "    </tr>\n",
       "    <tr>\n",
       "      <th>1</th>\n",
       "      <td>1 in canada chocolate chip cookies</td>\n",
       "      <td>453467</td>\n",
       "      <td>45</td>\n",
       "      <td>1848091</td>\n",
       "      <td>2011-04-11</td>\n",
       "      <td>['60-minutes-or-less', 'time-to-make', 'cuisin...</td>\n",
       "      <td>[595.1, 46.0, 211.0, 22.0, 13.0, 51.0, 26.0]</td>\n",
       "      <td>12</td>\n",
       "      <td>['pre-heat oven the 350 degrees f', 'in a mixi...</td>\n",
       "      <td>this is the recipe that we use at my school ca...</td>\n",
       "      <td>...</td>\n",
       "      <td>22.0</td>\n",
       "      <td>13.0</td>\n",
       "      <td>51.0</td>\n",
       "      <td>26.0</td>\n",
       "      <td>3588.0</td>\n",
       "      <td>10550.0</td>\n",
       "      <td>50.6</td>\n",
       "      <td>650.0</td>\n",
       "      <td>1020.0</td>\n",
       "      <td>7150.0</td>\n",
       "    </tr>\n",
       "    <tr>\n",
       "      <th>2</th>\n",
       "      <td>412 broccoli casserole</td>\n",
       "      <td>306168</td>\n",
       "      <td>40</td>\n",
       "      <td>50969</td>\n",
       "      <td>2008-05-30</td>\n",
       "      <td>['60-minutes-or-less', 'time-to-make', 'course...</td>\n",
       "      <td>[194.8, 20.0, 6.0, 32.0, 22.0, 36.0, 3.0]</td>\n",
       "      <td>6</td>\n",
       "      <td>['preheat oven to 350 degrees', 'spray a 2 qua...</td>\n",
       "      <td>since there are already 411 recipes for brocco...</td>\n",
       "      <td>...</td>\n",
       "      <td>32.0</td>\n",
       "      <td>22.0</td>\n",
       "      <td>36.0</td>\n",
       "      <td>3.0</td>\n",
       "      <td>1560.0</td>\n",
       "      <td>300.0</td>\n",
       "      <td>73.6</td>\n",
       "      <td>1100.0</td>\n",
       "      <td>720.0</td>\n",
       "      <td>825.0</td>\n",
       "    </tr>\n",
       "    <tr>\n",
       "      <th>3</th>\n",
       "      <td>412 broccoli casserole</td>\n",
       "      <td>306168</td>\n",
       "      <td>40</td>\n",
       "      <td>50969</td>\n",
       "      <td>2008-05-30</td>\n",
       "      <td>['60-minutes-or-less', 'time-to-make', 'course...</td>\n",
       "      <td>[194.8, 20.0, 6.0, 32.0, 22.0, 36.0, 3.0]</td>\n",
       "      <td>6</td>\n",
       "      <td>['preheat oven to 350 degrees', 'spray a 2 qua...</td>\n",
       "      <td>since there are already 411 recipes for brocco...</td>\n",
       "      <td>...</td>\n",
       "      <td>32.0</td>\n",
       "      <td>22.0</td>\n",
       "      <td>36.0</td>\n",
       "      <td>3.0</td>\n",
       "      <td>1560.0</td>\n",
       "      <td>300.0</td>\n",
       "      <td>73.6</td>\n",
       "      <td>1100.0</td>\n",
       "      <td>720.0</td>\n",
       "      <td>825.0</td>\n",
       "    </tr>\n",
       "    <tr>\n",
       "      <th>4</th>\n",
       "      <td>412 broccoli casserole</td>\n",
       "      <td>306168</td>\n",
       "      <td>40</td>\n",
       "      <td>50969</td>\n",
       "      <td>2008-05-30</td>\n",
       "      <td>['60-minutes-or-less', 'time-to-make', 'course...</td>\n",
       "      <td>[194.8, 20.0, 6.0, 32.0, 22.0, 36.0, 3.0]</td>\n",
       "      <td>6</td>\n",
       "      <td>['preheat oven to 350 degrees', 'spray a 2 qua...</td>\n",
       "      <td>since there are already 411 recipes for brocco...</td>\n",
       "      <td>...</td>\n",
       "      <td>32.0</td>\n",
       "      <td>22.0</td>\n",
       "      <td>36.0</td>\n",
       "      <td>3.0</td>\n",
       "      <td>1560.0</td>\n",
       "      <td>300.0</td>\n",
       "      <td>73.6</td>\n",
       "      <td>1100.0</td>\n",
       "      <td>720.0</td>\n",
       "      <td>825.0</td>\n",
       "    </tr>\n",
       "  </tbody>\n",
       "</table>\n",
       "<p>5 rows × 29 columns</p>\n",
       "</div>"
      ],
      "text/plain": [
       "                                   name      id  minutes  contributor_id  \\\n",
       "0  1 brownies in the world    best ever  333281       40          985201   \n",
       "1    1 in canada chocolate chip cookies  453467       45         1848091   \n",
       "2                412 broccoli casserole  306168       40           50969   \n",
       "3                412 broccoli casserole  306168       40           50969   \n",
       "4                412 broccoli casserole  306168       40           50969   \n",
       "\n",
       "    submitted                                               tags  \\\n",
       "0  2008-10-27  ['60-minutes-or-less', 'time-to-make', 'course...   \n",
       "1  2011-04-11  ['60-minutes-or-less', 'time-to-make', 'cuisin...   \n",
       "2  2008-05-30  ['60-minutes-or-less', 'time-to-make', 'course...   \n",
       "3  2008-05-30  ['60-minutes-or-less', 'time-to-make', 'course...   \n",
       "4  2008-05-30  ['60-minutes-or-less', 'time-to-make', 'course...   \n",
       "\n",
       "                                      nutrition  n_steps  \\\n",
       "0      [138.4, 10.0, 50.0, 3.0, 3.0, 19.0, 6.0]       10   \n",
       "1  [595.1, 46.0, 211.0, 22.0, 13.0, 51.0, 26.0]       12   \n",
       "2     [194.8, 20.0, 6.0, 32.0, 22.0, 36.0, 3.0]        6   \n",
       "3     [194.8, 20.0, 6.0, 32.0, 22.0, 36.0, 3.0]        6   \n",
       "4     [194.8, 20.0, 6.0, 32.0, 22.0, 36.0, 3.0]        6   \n",
       "\n",
       "                                               steps  \\\n",
       "0  ['heat the oven to 350f and arrange the rack i...   \n",
       "1  ['pre-heat oven the 350 degrees f', 'in a mixi...   \n",
       "2  ['preheat oven to 350 degrees', 'spray a 2 qua...   \n",
       "3  ['preheat oven to 350 degrees', 'spray a 2 qua...   \n",
       "4  ['preheat oven to 350 degrees', 'spray a 2 qua...   \n",
       "\n",
       "                                         description  ... sodium (PDV)  \\\n",
       "0  these are the most; chocolatey, moist, rich, d...  ...          3.0   \n",
       "1  this is the recipe that we use at my school ca...  ...         22.0   \n",
       "2  since there are already 411 recipes for brocco...  ...         32.0   \n",
       "3  since there are already 411 recipes for brocco...  ...         32.0   \n",
       "4  since there are already 411 recipes for brocco...  ...         32.0   \n",
       "\n",
       "   protein (PDV)  saturated fat (PDV) carbohydrates (PDV)  \\\n",
       "0            3.0                 19.0                 6.0   \n",
       "1           13.0                 51.0                26.0   \n",
       "2           22.0                 36.0                 3.0   \n",
       "3           22.0                 36.0                 3.0   \n",
       "4           22.0                 36.0                 3.0   \n",
       "\n",
       "   total fat (PDV) (grams) sugar (PDV) (grams)  sodium (PDV) (grams)  \\\n",
       "0                    780.0              2500.0                   6.9   \n",
       "1                   3588.0             10550.0                  50.6   \n",
       "2                   1560.0               300.0                  73.6   \n",
       "3                   1560.0               300.0                  73.6   \n",
       "4                   1560.0               300.0                  73.6   \n",
       "\n",
       "   protein (PDV) (grams)  saturated fat (PDV) (grams)  \\\n",
       "0                  150.0                        380.0   \n",
       "1                  650.0                       1020.0   \n",
       "2                 1100.0                        720.0   \n",
       "3                 1100.0                        720.0   \n",
       "4                 1100.0                        720.0   \n",
       "\n",
       "   carbohydrates (PDV) (grams)  \n",
       "0                       1650.0  \n",
       "1                       7150.0  \n",
       "2                        825.0  \n",
       "3                        825.0  \n",
       "4                        825.0  \n",
       "\n",
       "[5 rows x 29 columns]"
      ]
     },
     "execution_count": 60,
     "metadata": {},
     "output_type": "execute_result"
    }
   ],
   "source": [
    "merged_df.head()"
   ]
  },
  {
   "cell_type": "markdown",
   "metadata": {},
   "source": [
    "Create a new column of the golden ratio "
   ]
  },
  {
   "cell_type": "code",
   "execution_count": 61,
   "metadata": {},
   "outputs": [],
   "source": [
    "merged_df['protein-calorie-ratio'] = merged_df['protein (PDV) (grams)'] / merged_df['calories (#)']"
   ]
  },
  {
   "cell_type": "code",
   "execution_count": 63,
   "metadata": {},
   "outputs": [
    {
     "data": {
      "text/html": [
       "<div>\n",
       "<style scoped>\n",
       "    .dataframe tbody tr th:only-of-type {\n",
       "        vertical-align: middle;\n",
       "    }\n",
       "\n",
       "    .dataframe tbody tr th {\n",
       "        vertical-align: top;\n",
       "    }\n",
       "\n",
       "    .dataframe thead th {\n",
       "        text-align: right;\n",
       "    }\n",
       "</style>\n",
       "<table border=\"1\" class=\"dataframe\">\n",
       "  <thead>\n",
       "    <tr style=\"text-align: right;\">\n",
       "      <th></th>\n",
       "      <th>name</th>\n",
       "      <th>id</th>\n",
       "      <th>minutes</th>\n",
       "      <th>contributor_id</th>\n",
       "      <th>submitted</th>\n",
       "      <th>tags</th>\n",
       "      <th>nutrition</th>\n",
       "      <th>n_steps</th>\n",
       "      <th>steps</th>\n",
       "      <th>description</th>\n",
       "      <th>...</th>\n",
       "      <th>protein (PDV)</th>\n",
       "      <th>saturated fat (PDV)</th>\n",
       "      <th>carbohydrates (PDV)</th>\n",
       "      <th>total fat (PDV) (grams)</th>\n",
       "      <th>sugar (PDV) (grams)</th>\n",
       "      <th>sodium (PDV) (grams)</th>\n",
       "      <th>protein (PDV) (grams)</th>\n",
       "      <th>saturated fat (PDV) (grams)</th>\n",
       "      <th>carbohydrates (PDV) (grams)</th>\n",
       "      <th>protein-calorie-ratio</th>\n",
       "    </tr>\n",
       "  </thead>\n",
       "  <tbody>\n",
       "    <tr>\n",
       "      <th>0</th>\n",
       "      <td>1 brownies in the world    best ever</td>\n",
       "      <td>333281</td>\n",
       "      <td>40</td>\n",
       "      <td>985201</td>\n",
       "      <td>2008-10-27</td>\n",
       "      <td>['60-minutes-or-less', 'time-to-make', 'course...</td>\n",
       "      <td>[138.4, 10.0, 50.0, 3.0, 3.0, 19.0, 6.0]</td>\n",
       "      <td>10</td>\n",
       "      <td>['heat the oven to 350f and arrange the rack i...</td>\n",
       "      <td>these are the most; chocolatey, moist, rich, d...</td>\n",
       "      <td>...</td>\n",
       "      <td>3.0</td>\n",
       "      <td>19.0</td>\n",
       "      <td>6.0</td>\n",
       "      <td>780.0</td>\n",
       "      <td>2500.0</td>\n",
       "      <td>6.9</td>\n",
       "      <td>150.0</td>\n",
       "      <td>380.0</td>\n",
       "      <td>1650.0</td>\n",
       "      <td>1.083815</td>\n",
       "    </tr>\n",
       "    <tr>\n",
       "      <th>1</th>\n",
       "      <td>1 in canada chocolate chip cookies</td>\n",
       "      <td>453467</td>\n",
       "      <td>45</td>\n",
       "      <td>1848091</td>\n",
       "      <td>2011-04-11</td>\n",
       "      <td>['60-minutes-or-less', 'time-to-make', 'cuisin...</td>\n",
       "      <td>[595.1, 46.0, 211.0, 22.0, 13.0, 51.0, 26.0]</td>\n",
       "      <td>12</td>\n",
       "      <td>['pre-heat oven the 350 degrees f', 'in a mixi...</td>\n",
       "      <td>this is the recipe that we use at my school ca...</td>\n",
       "      <td>...</td>\n",
       "      <td>13.0</td>\n",
       "      <td>51.0</td>\n",
       "      <td>26.0</td>\n",
       "      <td>3588.0</td>\n",
       "      <td>10550.0</td>\n",
       "      <td>50.6</td>\n",
       "      <td>650.0</td>\n",
       "      <td>1020.0</td>\n",
       "      <td>7150.0</td>\n",
       "      <td>1.092253</td>\n",
       "    </tr>\n",
       "    <tr>\n",
       "      <th>2</th>\n",
       "      <td>412 broccoli casserole</td>\n",
       "      <td>306168</td>\n",
       "      <td>40</td>\n",
       "      <td>50969</td>\n",
       "      <td>2008-05-30</td>\n",
       "      <td>['60-minutes-or-less', 'time-to-make', 'course...</td>\n",
       "      <td>[194.8, 20.0, 6.0, 32.0, 22.0, 36.0, 3.0]</td>\n",
       "      <td>6</td>\n",
       "      <td>['preheat oven to 350 degrees', 'spray a 2 qua...</td>\n",
       "      <td>since there are already 411 recipes for brocco...</td>\n",
       "      <td>...</td>\n",
       "      <td>22.0</td>\n",
       "      <td>36.0</td>\n",
       "      <td>3.0</td>\n",
       "      <td>1560.0</td>\n",
       "      <td>300.0</td>\n",
       "      <td>73.6</td>\n",
       "      <td>1100.0</td>\n",
       "      <td>720.0</td>\n",
       "      <td>825.0</td>\n",
       "      <td>5.646817</td>\n",
       "    </tr>\n",
       "    <tr>\n",
       "      <th>3</th>\n",
       "      <td>412 broccoli casserole</td>\n",
       "      <td>306168</td>\n",
       "      <td>40</td>\n",
       "      <td>50969</td>\n",
       "      <td>2008-05-30</td>\n",
       "      <td>['60-minutes-or-less', 'time-to-make', 'course...</td>\n",
       "      <td>[194.8, 20.0, 6.0, 32.0, 22.0, 36.0, 3.0]</td>\n",
       "      <td>6</td>\n",
       "      <td>['preheat oven to 350 degrees', 'spray a 2 qua...</td>\n",
       "      <td>since there are already 411 recipes for brocco...</td>\n",
       "      <td>...</td>\n",
       "      <td>22.0</td>\n",
       "      <td>36.0</td>\n",
       "      <td>3.0</td>\n",
       "      <td>1560.0</td>\n",
       "      <td>300.0</td>\n",
       "      <td>73.6</td>\n",
       "      <td>1100.0</td>\n",
       "      <td>720.0</td>\n",
       "      <td>825.0</td>\n",
       "      <td>5.646817</td>\n",
       "    </tr>\n",
       "    <tr>\n",
       "      <th>4</th>\n",
       "      <td>412 broccoli casserole</td>\n",
       "      <td>306168</td>\n",
       "      <td>40</td>\n",
       "      <td>50969</td>\n",
       "      <td>2008-05-30</td>\n",
       "      <td>['60-minutes-or-less', 'time-to-make', 'course...</td>\n",
       "      <td>[194.8, 20.0, 6.0, 32.0, 22.0, 36.0, 3.0]</td>\n",
       "      <td>6</td>\n",
       "      <td>['preheat oven to 350 degrees', 'spray a 2 qua...</td>\n",
       "      <td>since there are already 411 recipes for brocco...</td>\n",
       "      <td>...</td>\n",
       "      <td>22.0</td>\n",
       "      <td>36.0</td>\n",
       "      <td>3.0</td>\n",
       "      <td>1560.0</td>\n",
       "      <td>300.0</td>\n",
       "      <td>73.6</td>\n",
       "      <td>1100.0</td>\n",
       "      <td>720.0</td>\n",
       "      <td>825.0</td>\n",
       "      <td>5.646817</td>\n",
       "    </tr>\n",
       "  </tbody>\n",
       "</table>\n",
       "<p>5 rows × 30 columns</p>\n",
       "</div>"
      ],
      "text/plain": [
       "                                   name      id  minutes  contributor_id  \\\n",
       "0  1 brownies in the world    best ever  333281       40          985201   \n",
       "1    1 in canada chocolate chip cookies  453467       45         1848091   \n",
       "2                412 broccoli casserole  306168       40           50969   \n",
       "3                412 broccoli casserole  306168       40           50969   \n",
       "4                412 broccoli casserole  306168       40           50969   \n",
       "\n",
       "    submitted                                               tags  \\\n",
       "0  2008-10-27  ['60-minutes-or-less', 'time-to-make', 'course...   \n",
       "1  2011-04-11  ['60-minutes-or-less', 'time-to-make', 'cuisin...   \n",
       "2  2008-05-30  ['60-minutes-or-less', 'time-to-make', 'course...   \n",
       "3  2008-05-30  ['60-minutes-or-less', 'time-to-make', 'course...   \n",
       "4  2008-05-30  ['60-minutes-or-less', 'time-to-make', 'course...   \n",
       "\n",
       "                                      nutrition  n_steps  \\\n",
       "0      [138.4, 10.0, 50.0, 3.0, 3.0, 19.0, 6.0]       10   \n",
       "1  [595.1, 46.0, 211.0, 22.0, 13.0, 51.0, 26.0]       12   \n",
       "2     [194.8, 20.0, 6.0, 32.0, 22.0, 36.0, 3.0]        6   \n",
       "3     [194.8, 20.0, 6.0, 32.0, 22.0, 36.0, 3.0]        6   \n",
       "4     [194.8, 20.0, 6.0, 32.0, 22.0, 36.0, 3.0]        6   \n",
       "\n",
       "                                               steps  \\\n",
       "0  ['heat the oven to 350f and arrange the rack i...   \n",
       "1  ['pre-heat oven the 350 degrees f', 'in a mixi...   \n",
       "2  ['preheat oven to 350 degrees', 'spray a 2 qua...   \n",
       "3  ['preheat oven to 350 degrees', 'spray a 2 qua...   \n",
       "4  ['preheat oven to 350 degrees', 'spray a 2 qua...   \n",
       "\n",
       "                                         description  ... protein (PDV)  \\\n",
       "0  these are the most; chocolatey, moist, rich, d...  ...           3.0   \n",
       "1  this is the recipe that we use at my school ca...  ...          13.0   \n",
       "2  since there are already 411 recipes for brocco...  ...          22.0   \n",
       "3  since there are already 411 recipes for brocco...  ...          22.0   \n",
       "4  since there are already 411 recipes for brocco...  ...          22.0   \n",
       "\n",
       "   saturated fat (PDV)  carbohydrates (PDV) total fat (PDV) (grams)  \\\n",
       "0                 19.0                  6.0                   780.0   \n",
       "1                 51.0                 26.0                  3588.0   \n",
       "2                 36.0                  3.0                  1560.0   \n",
       "3                 36.0                  3.0                  1560.0   \n",
       "4                 36.0                  3.0                  1560.0   \n",
       "\n",
       "   sugar (PDV) (grams) sodium (PDV) (grams)  protein (PDV) (grams)  \\\n",
       "0               2500.0                  6.9                  150.0   \n",
       "1              10550.0                 50.6                  650.0   \n",
       "2                300.0                 73.6                 1100.0   \n",
       "3                300.0                 73.6                 1100.0   \n",
       "4                300.0                 73.6                 1100.0   \n",
       "\n",
       "   saturated fat (PDV) (grams)  carbohydrates (PDV) (grams)  \\\n",
       "0                        380.0                       1650.0   \n",
       "1                       1020.0                       7150.0   \n",
       "2                        720.0                        825.0   \n",
       "3                        720.0                        825.0   \n",
       "4                        720.0                        825.0   \n",
       "\n",
       "   protein-calorie-ratio  \n",
       "0               1.083815  \n",
       "1               1.092253  \n",
       "2               5.646817  \n",
       "3               5.646817  \n",
       "4               5.646817  \n",
       "\n",
       "[5 rows x 30 columns]"
      ]
     },
     "execution_count": 63,
     "metadata": {},
     "output_type": "execute_result"
    }
   ],
   "source": [
    "merged_df.head()"
   ]
  },
  {
   "cell_type": "markdown",
   "metadata": {},
   "source": [
    "## Univariate Analysis"
   ]
  },
  {
   "cell_type": "code",
   "execution_count": 32,
   "metadata": {},
   "outputs": [
    {
     "data": {
      "text/html": [
       "<div>\n",
       "<style scoped>\n",
       "    .dataframe tbody tr th:only-of-type {\n",
       "        vertical-align: middle;\n",
       "    }\n",
       "\n",
       "    .dataframe tbody tr th {\n",
       "        vertical-align: top;\n",
       "    }\n",
       "\n",
       "    .dataframe thead th {\n",
       "        text-align: right;\n",
       "    }\n",
       "</style>\n",
       "<table border=\"1\" class=\"dataframe\">\n",
       "  <thead>\n",
       "    <tr style=\"text-align: right;\">\n",
       "      <th></th>\n",
       "      <th>user_id</th>\n",
       "      <th>recipe_id</th>\n",
       "      <th>date</th>\n",
       "      <th>rating</th>\n",
       "      <th>review</th>\n",
       "      <th>name</th>\n",
       "      <th>id</th>\n",
       "      <th>minutes</th>\n",
       "      <th>contributor_id</th>\n",
       "      <th>submitted</th>\n",
       "      <th>tags</th>\n",
       "      <th>nutrition</th>\n",
       "      <th>n_steps</th>\n",
       "      <th>steps</th>\n",
       "      <th>description</th>\n",
       "      <th>ingredients</th>\n",
       "      <th>n_ingredients</th>\n",
       "    </tr>\n",
       "  </thead>\n",
       "  <tbody>\n",
       "    <tr>\n",
       "      <th>0</th>\n",
       "      <td>483827</td>\n",
       "      <td>306785</td>\n",
       "      <td>2008-07-15</td>\n",
       "      <td>5</td>\n",
       "      <td>Being a  huge fan of America's Test Kitchen  I...</td>\n",
       "      <td>spicy nectarine and corn salsa</td>\n",
       "      <td>306785</td>\n",
       "      <td>40</td>\n",
       "      <td>377499</td>\n",
       "      <td>2008-06-02</td>\n",
       "      <td>['60-minutes-or-less', 'time-to-make', 'course...</td>\n",
       "      <td>[95.3, 1.0, 50.0, 16.0, 5.0, 0.0, 7.0]</td>\n",
       "      <td>4</td>\n",
       "      <td>['in a medium bowl , toss together nectarines ...</td>\n",
       "      <td>from my heros at america's test kitchen (cooks...</td>\n",
       "      <td>['nectarines', 'ear of corn', 'shallot', 'haba...</td>\n",
       "      <td>8</td>\n",
       "    </tr>\n",
       "    <tr>\n",
       "      <th>1</th>\n",
       "      <td>5060</td>\n",
       "      <td>310237</td>\n",
       "      <td>2010-05-07</td>\n",
       "      <td>5</td>\n",
       "      <td>wow red and white sweetness!  DH loved them , ...</td>\n",
       "      <td>french strawberry crepes</td>\n",
       "      <td>310237</td>\n",
       "      <td>30</td>\n",
       "      <td>452576</td>\n",
       "      <td>2008-06-19</td>\n",
       "      <td>['30-minutes-or-less', 'time-to-make', 'course...</td>\n",
       "      <td>[143.5, 5.0, 25.0, 3.0, 10.0, 3.0, 7.0]</td>\n",
       "      <td>9</td>\n",
       "      <td>['for the filling: toss the strawberries and b...</td>\n",
       "      <td>yummy and sweet french-style strawberry breakf...</td>\n",
       "      <td>['strawberries', 'brown sugar', 'cool whip fre...</td>\n",
       "      <td>10</td>\n",
       "    </tr>\n",
       "    <tr>\n",
       "      <th>2</th>\n",
       "      <td>935485</td>\n",
       "      <td>321038</td>\n",
       "      <td>2009-06-22</td>\n",
       "      <td>5</td>\n",
       "      <td>Being a healthy bar this is very good.  I make...</td>\n",
       "      <td>hg s grab  n go breakfast cookies   weight wat...</td>\n",
       "      <td>321038</td>\n",
       "      <td>22</td>\n",
       "      <td>346383</td>\n",
       "      <td>2008-08-24</td>\n",
       "      <td>['30-minutes-or-less', 'time-to-make', 'course...</td>\n",
       "      <td>[182.4, 2.0, 50.0, 7.0, 11.0, 1.0, 13.0]</td>\n",
       "      <td>14</td>\n",
       "      <td>['preheat oven to 375 degrees', 'chop raisins ...</td>\n",
       "      <td>i received a hungry girl email today and this ...</td>\n",
       "      <td>['oats', 'whole wheat flour', 'fiber one cerea...</td>\n",
       "      <td>14</td>\n",
       "    </tr>\n",
       "    <tr>\n",
       "      <th>3</th>\n",
       "      <td>539686</td>\n",
       "      <td>321038</td>\n",
       "      <td>2011-03-28</td>\n",
       "      <td>5</td>\n",
       "      <td>My very health conscious daughter and I triple...</td>\n",
       "      <td>hg s grab  n go breakfast cookies   weight wat...</td>\n",
       "      <td>321038</td>\n",
       "      <td>22</td>\n",
       "      <td>346383</td>\n",
       "      <td>2008-08-24</td>\n",
       "      <td>['30-minutes-or-less', 'time-to-make', 'course...</td>\n",
       "      <td>[182.4, 2.0, 50.0, 7.0, 11.0, 1.0, 13.0]</td>\n",
       "      <td>14</td>\n",
       "      <td>['preheat oven to 375 degrees', 'chop raisins ...</td>\n",
       "      <td>i received a hungry girl email today and this ...</td>\n",
       "      <td>['oats', 'whole wheat flour', 'fiber one cerea...</td>\n",
       "      <td>14</td>\n",
       "    </tr>\n",
       "    <tr>\n",
       "      <th>4</th>\n",
       "      <td>22174</td>\n",
       "      <td>342209</td>\n",
       "      <td>2008-12-28</td>\n",
       "      <td>4</td>\n",
       "      <td>I am changing my initial review because they g...</td>\n",
       "      <td>banana oatmeal cookies</td>\n",
       "      <td>342209</td>\n",
       "      <td>40</td>\n",
       "      <td>361931</td>\n",
       "      <td>2008-12-08</td>\n",
       "      <td>['60-minutes-or-less', 'time-to-make', 'course...</td>\n",
       "      <td>[658.2, 45.0, 151.0, 35.0, 24.0, 72.0, 29.0]</td>\n",
       "      <td>7</td>\n",
       "      <td>['sift flour , soda , baking powder and salt t...</td>\n",
       "      <td>a twist on an old favorite</td>\n",
       "      <td>['sugar', 'butter', 'eggs', 'mashed banana', '...</td>\n",
       "      <td>12</td>\n",
       "    </tr>\n",
       "    <tr>\n",
       "      <th>...</th>\n",
       "      <td>...</td>\n",
       "      <td>...</td>\n",
       "      <td>...</td>\n",
       "      <td>...</td>\n",
       "      <td>...</td>\n",
       "      <td>...</td>\n",
       "      <td>...</td>\n",
       "      <td>...</td>\n",
       "      <td>...</td>\n",
       "      <td>...</td>\n",
       "      <td>...</td>\n",
       "      <td>...</td>\n",
       "      <td>...</td>\n",
       "      <td>...</td>\n",
       "      <td>...</td>\n",
       "      <td>...</td>\n",
       "      <td>...</td>\n",
       "    </tr>\n",
       "    <tr>\n",
       "      <th>234423</th>\n",
       "      <td>1963163</td>\n",
       "      <td>451490</td>\n",
       "      <td>2015-05-23</td>\n",
       "      <td>5</td>\n",
       "      <td>Just made this for the first time today. This ...</td>\n",
       "      <td>pulled barbecued beef sandwiches</td>\n",
       "      <td>451490</td>\n",
       "      <td>330</td>\n",
       "      <td>1502639</td>\n",
       "      <td>2011-03-24</td>\n",
       "      <td>['weeknight', 'course', 'main-ingredient', 'pr...</td>\n",
       "      <td>[351.1, 15.0, 37.0, 37.0, 57.0, 17.0, 11.0]</td>\n",
       "      <td>11</td>\n",
       "      <td>['trim fat from meat and cut to fit in a 3-1 /...</td>\n",
       "      <td>\"pulled\" this recipe off of yahoo shine and my...</td>\n",
       "      <td>['beef brisket', 'ro-tel tomatoes', 'applesauc...</td>\n",
       "      <td>8</td>\n",
       "    </tr>\n",
       "    <tr>\n",
       "      <th>234424</th>\n",
       "      <td>169430</td>\n",
       "      <td>492861</td>\n",
       "      <td>2013-01-09</td>\n",
       "      <td>5</td>\n",
       "      <td>I have made this for the second (and this time...</td>\n",
       "      <td>omani coffee</td>\n",
       "      <td>492861</td>\n",
       "      <td>13</td>\n",
       "      <td>37449</td>\n",
       "      <td>2013-01-03</td>\n",
       "      <td>['15-minutes-or-less', 'time-to-make', 'course...</td>\n",
       "      <td>[16.3, 0.0, 0.0, 0.0, 0.0, 0.0, 1.0]</td>\n",
       "      <td>13</td>\n",
       "      <td>['preparing the beans: roast the ground beans ...</td>\n",
       "      <td>the omani people are well known for their hosp...</td>\n",
       "      <td>['water', 'coffee', 'ground cardamom', 'whole ...</td>\n",
       "      <td>4</td>\n",
       "    </tr>\n",
       "    <tr>\n",
       "      <th>234425</th>\n",
       "      <td>128473</td>\n",
       "      <td>492861</td>\n",
       "      <td>2013-02-08</td>\n",
       "      <td>5</td>\n",
       "      <td>I love coffee and I adore cardamom.  This was ...</td>\n",
       "      <td>omani coffee</td>\n",
       "      <td>492861</td>\n",
       "      <td>13</td>\n",
       "      <td>37449</td>\n",
       "      <td>2013-01-03</td>\n",
       "      <td>['15-minutes-or-less', 'time-to-make', 'course...</td>\n",
       "      <td>[16.3, 0.0, 0.0, 0.0, 0.0, 0.0, 1.0]</td>\n",
       "      <td>13</td>\n",
       "      <td>['preparing the beans: roast the ground beans ...</td>\n",
       "      <td>the omani people are well known for their hosp...</td>\n",
       "      <td>['water', 'coffee', 'ground cardamom', 'whole ...</td>\n",
       "      <td>4</td>\n",
       "    </tr>\n",
       "    <tr>\n",
       "      <th>234426</th>\n",
       "      <td>169430</td>\n",
       "      <td>470995</td>\n",
       "      <td>2013-04-17</td>\n",
       "      <td>5</td>\n",
       "      <td>Just as the title promised this is a lovely sh...</td>\n",
       "      <td>perfectly fried shrimps with garlic</td>\n",
       "      <td>470995</td>\n",
       "      <td>8</td>\n",
       "      <td>2124513</td>\n",
       "      <td>2011-12-31</td>\n",
       "      <td>['15-minutes-or-less', 'time-to-make', 'course...</td>\n",
       "      <td>[397.0, 62.0, 0.0, 8.0, 10.0, 28.0, 1.0]</td>\n",
       "      <td>25</td>\n",
       "      <td>['preparation', 'rinse the shrimps with cold w...</td>\n",
       "      <td>succulent shrimps fried in olive oil with cara...</td>\n",
       "      <td>['shrimp', 'garlic cloves', 'olive oil']</td>\n",
       "      <td>3</td>\n",
       "    </tr>\n",
       "    <tr>\n",
       "      <th>234427</th>\n",
       "      <td>583662</td>\n",
       "      <td>386618</td>\n",
       "      <td>2009-09-29</td>\n",
       "      <td>5</td>\n",
       "      <td>These were so delicious!  My husband and I tru...</td>\n",
       "      <td>stacey e s yummy veggie burgers</td>\n",
       "      <td>386618</td>\n",
       "      <td>21</td>\n",
       "      <td>742029</td>\n",
       "      <td>2009-08-24</td>\n",
       "      <td>['30-minutes-or-less', 'time-to-make', 'course...</td>\n",
       "      <td>[124.7, 1.0, 11.0, 24.0, 10.0, 0.0, 8.0]</td>\n",
       "      <td>9</td>\n",
       "      <td>['microwave carrot slices in 1 / 4 inch water ...</td>\n",
       "      <td>my friend stacey significantly modified a reci...</td>\n",
       "      <td>['carrot', 'garbanzo beans', 'salsa', 'corn fl...</td>\n",
       "      <td>8</td>\n",
       "    </tr>\n",
       "  </tbody>\n",
       "</table>\n",
       "<p>234428 rows × 17 columns</p>\n",
       "</div>"
      ],
      "text/plain": [
       "        user_id  recipe_id        date  rating  \\\n",
       "0        483827     306785  2008-07-15       5   \n",
       "1          5060     310237  2010-05-07       5   \n",
       "2        935485     321038  2009-06-22       5   \n",
       "3        539686     321038  2011-03-28       5   \n",
       "4         22174     342209  2008-12-28       4   \n",
       "...         ...        ...         ...     ...   \n",
       "234423  1963163     451490  2015-05-23       5   \n",
       "234424   169430     492861  2013-01-09       5   \n",
       "234425   128473     492861  2013-02-08       5   \n",
       "234426   169430     470995  2013-04-17       5   \n",
       "234427   583662     386618  2009-09-29       5   \n",
       "\n",
       "                                                   review  \\\n",
       "0       Being a  huge fan of America's Test Kitchen  I...   \n",
       "1       wow red and white sweetness!  DH loved them , ...   \n",
       "2       Being a healthy bar this is very good.  I make...   \n",
       "3       My very health conscious daughter and I triple...   \n",
       "4       I am changing my initial review because they g...   \n",
       "...                                                   ...   \n",
       "234423  Just made this for the first time today. This ...   \n",
       "234424  I have made this for the second (and this time...   \n",
       "234425  I love coffee and I adore cardamom.  This was ...   \n",
       "234426  Just as the title promised this is a lovely sh...   \n",
       "234427  These were so delicious!  My husband and I tru...   \n",
       "\n",
       "                                                     name      id  minutes  \\\n",
       "0                          spicy nectarine and corn salsa  306785       40   \n",
       "1                                french strawberry crepes  310237       30   \n",
       "2       hg s grab  n go breakfast cookies   weight wat...  321038       22   \n",
       "3       hg s grab  n go breakfast cookies   weight wat...  321038       22   \n",
       "4                                  banana oatmeal cookies  342209       40   \n",
       "...                                                   ...     ...      ...   \n",
       "234423                   pulled barbecued beef sandwiches  451490      330   \n",
       "234424                                       omani coffee  492861       13   \n",
       "234425                                       omani coffee  492861       13   \n",
       "234426                perfectly fried shrimps with garlic  470995        8   \n",
       "234427                    stacey e s yummy veggie burgers  386618       21   \n",
       "\n",
       "        contributor_id   submitted  \\\n",
       "0               377499  2008-06-02   \n",
       "1               452576  2008-06-19   \n",
       "2               346383  2008-08-24   \n",
       "3               346383  2008-08-24   \n",
       "4               361931  2008-12-08   \n",
       "...                ...         ...   \n",
       "234423         1502639  2011-03-24   \n",
       "234424           37449  2013-01-03   \n",
       "234425           37449  2013-01-03   \n",
       "234426         2124513  2011-12-31   \n",
       "234427          742029  2009-08-24   \n",
       "\n",
       "                                                     tags  \\\n",
       "0       ['60-minutes-or-less', 'time-to-make', 'course...   \n",
       "1       ['30-minutes-or-less', 'time-to-make', 'course...   \n",
       "2       ['30-minutes-or-less', 'time-to-make', 'course...   \n",
       "3       ['30-minutes-or-less', 'time-to-make', 'course...   \n",
       "4       ['60-minutes-or-less', 'time-to-make', 'course...   \n",
       "...                                                   ...   \n",
       "234423  ['weeknight', 'course', 'main-ingredient', 'pr...   \n",
       "234424  ['15-minutes-or-less', 'time-to-make', 'course...   \n",
       "234425  ['15-minutes-or-less', 'time-to-make', 'course...   \n",
       "234426  ['15-minutes-or-less', 'time-to-make', 'course...   \n",
       "234427  ['30-minutes-or-less', 'time-to-make', 'course...   \n",
       "\n",
       "                                           nutrition  n_steps  \\\n",
       "0             [95.3, 1.0, 50.0, 16.0, 5.0, 0.0, 7.0]        4   \n",
       "1            [143.5, 5.0, 25.0, 3.0, 10.0, 3.0, 7.0]        9   \n",
       "2           [182.4, 2.0, 50.0, 7.0, 11.0, 1.0, 13.0]       14   \n",
       "3           [182.4, 2.0, 50.0, 7.0, 11.0, 1.0, 13.0]       14   \n",
       "4       [658.2, 45.0, 151.0, 35.0, 24.0, 72.0, 29.0]        7   \n",
       "...                                              ...      ...   \n",
       "234423   [351.1, 15.0, 37.0, 37.0, 57.0, 17.0, 11.0]       11   \n",
       "234424          [16.3, 0.0, 0.0, 0.0, 0.0, 0.0, 1.0]       13   \n",
       "234425          [16.3, 0.0, 0.0, 0.0, 0.0, 0.0, 1.0]       13   \n",
       "234426      [397.0, 62.0, 0.0, 8.0, 10.0, 28.0, 1.0]       25   \n",
       "234427      [124.7, 1.0, 11.0, 24.0, 10.0, 0.0, 8.0]        9   \n",
       "\n",
       "                                                    steps  \\\n",
       "0       ['in a medium bowl , toss together nectarines ...   \n",
       "1       ['for the filling: toss the strawberries and b...   \n",
       "2       ['preheat oven to 375 degrees', 'chop raisins ...   \n",
       "3       ['preheat oven to 375 degrees', 'chop raisins ...   \n",
       "4       ['sift flour , soda , baking powder and salt t...   \n",
       "...                                                   ...   \n",
       "234423  ['trim fat from meat and cut to fit in a 3-1 /...   \n",
       "234424  ['preparing the beans: roast the ground beans ...   \n",
       "234425  ['preparing the beans: roast the ground beans ...   \n",
       "234426  ['preparation', 'rinse the shrimps with cold w...   \n",
       "234427  ['microwave carrot slices in 1 / 4 inch water ...   \n",
       "\n",
       "                                              description  \\\n",
       "0       from my heros at america's test kitchen (cooks...   \n",
       "1       yummy and sweet french-style strawberry breakf...   \n",
       "2       i received a hungry girl email today and this ...   \n",
       "3       i received a hungry girl email today and this ...   \n",
       "4                              a twist on an old favorite   \n",
       "...                                                   ...   \n",
       "234423  \"pulled\" this recipe off of yahoo shine and my...   \n",
       "234424  the omani people are well known for their hosp...   \n",
       "234425  the omani people are well known for their hosp...   \n",
       "234426  succulent shrimps fried in olive oil with cara...   \n",
       "234427  my friend stacey significantly modified a reci...   \n",
       "\n",
       "                                              ingredients  n_ingredients  \n",
       "0       ['nectarines', 'ear of corn', 'shallot', 'haba...              8  \n",
       "1       ['strawberries', 'brown sugar', 'cool whip fre...             10  \n",
       "2       ['oats', 'whole wheat flour', 'fiber one cerea...             14  \n",
       "3       ['oats', 'whole wheat flour', 'fiber one cerea...             14  \n",
       "4       ['sugar', 'butter', 'eggs', 'mashed banana', '...             12  \n",
       "...                                                   ...            ...  \n",
       "234423  ['beef brisket', 'ro-tel tomatoes', 'applesauc...              8  \n",
       "234424  ['water', 'coffee', 'ground cardamom', 'whole ...              4  \n",
       "234425  ['water', 'coffee', 'ground cardamom', 'whole ...              4  \n",
       "234426           ['shrimp', 'garlic cloves', 'olive oil']              3  \n",
       "234427  ['carrot', 'garbanzo beans', 'salsa', 'corn fl...              8  \n",
       "\n",
       "[234428 rows x 17 columns]"
      ]
     },
     "execution_count": 32,
     "metadata": {},
     "output_type": "execute_result"
    }
   ],
   "source": [
    "merged_df"
   ]
  },
  {
   "cell_type": "code",
   "execution_count": 30,
   "metadata": {},
   "outputs": [],
   "source": []
  },
  {
   "cell_type": "code",
   "execution_count": null,
   "metadata": {},
   "outputs": [],
   "source": []
  },
  {
   "cell_type": "code",
   "execution_count": 31,
   "metadata": {},
   "outputs": [
    {
     "data": {
      "application/vnd.plotly.v1+json": {
       "config": {
        "plotlyServerURL": "https://plot.ly"
       },
       "data": [
        {
         "alignmentgroup": "True",
         "hovertemplate": "Rating=%{x}<br>Frequency=%{text}<extra></extra>",
         "legendgroup": "",
         "marker": {
          "color": "#636efa",
          "pattern": {
           "shape": ""
          }
         },
         "name": "",
         "offsetgroup": "",
         "orientation": "v",
         "showlegend": false,
         "text": [
          169676,
          37307,
          15035,
          7172,
          2870,
          2368
         ],
         "textposition": "auto",
         "type": "bar",
         "x": [
          5,
          4,
          0,
          3,
          1,
          2
         ],
         "xaxis": "x",
         "y": [
          169676,
          37307,
          15035,
          7172,
          2870,
          2368
         ],
         "yaxis": "y"
        }
       ],
       "layout": {
        "barmode": "relative",
        "legend": {
         "tracegroupgap": 0
        },
        "template": {
         "data": {
          "bar": [
           {
            "error_x": {
             "color": "#2a3f5f"
            },
            "error_y": {
             "color": "#2a3f5f"
            },
            "marker": {
             "line": {
              "color": "#E5ECF6",
              "width": 0.5
             },
             "pattern": {
              "fillmode": "overlay",
              "size": 10,
              "solidity": 0.2
             }
            },
            "type": "bar"
           }
          ],
          "barpolar": [
           {
            "marker": {
             "line": {
              "color": "#E5ECF6",
              "width": 0.5
             },
             "pattern": {
              "fillmode": "overlay",
              "size": 10,
              "solidity": 0.2
             }
            },
            "type": "barpolar"
           }
          ],
          "carpet": [
           {
            "aaxis": {
             "endlinecolor": "#2a3f5f",
             "gridcolor": "white",
             "linecolor": "white",
             "minorgridcolor": "white",
             "startlinecolor": "#2a3f5f"
            },
            "baxis": {
             "endlinecolor": "#2a3f5f",
             "gridcolor": "white",
             "linecolor": "white",
             "minorgridcolor": "white",
             "startlinecolor": "#2a3f5f"
            },
            "type": "carpet"
           }
          ],
          "choropleth": [
           {
            "colorbar": {
             "outlinewidth": 0,
             "ticks": ""
            },
            "type": "choropleth"
           }
          ],
          "contour": [
           {
            "colorbar": {
             "outlinewidth": 0,
             "ticks": ""
            },
            "colorscale": [
             [
              0,
              "#0d0887"
             ],
             [
              0.1111111111111111,
              "#46039f"
             ],
             [
              0.2222222222222222,
              "#7201a8"
             ],
             [
              0.3333333333333333,
              "#9c179e"
             ],
             [
              0.4444444444444444,
              "#bd3786"
             ],
             [
              0.5555555555555556,
              "#d8576b"
             ],
             [
              0.6666666666666666,
              "#ed7953"
             ],
             [
              0.7777777777777778,
              "#fb9f3a"
             ],
             [
              0.8888888888888888,
              "#fdca26"
             ],
             [
              1,
              "#f0f921"
             ]
            ],
            "type": "contour"
           }
          ],
          "contourcarpet": [
           {
            "colorbar": {
             "outlinewidth": 0,
             "ticks": ""
            },
            "type": "contourcarpet"
           }
          ],
          "heatmap": [
           {
            "colorbar": {
             "outlinewidth": 0,
             "ticks": ""
            },
            "colorscale": [
             [
              0,
              "#0d0887"
             ],
             [
              0.1111111111111111,
              "#46039f"
             ],
             [
              0.2222222222222222,
              "#7201a8"
             ],
             [
              0.3333333333333333,
              "#9c179e"
             ],
             [
              0.4444444444444444,
              "#bd3786"
             ],
             [
              0.5555555555555556,
              "#d8576b"
             ],
             [
              0.6666666666666666,
              "#ed7953"
             ],
             [
              0.7777777777777778,
              "#fb9f3a"
             ],
             [
              0.8888888888888888,
              "#fdca26"
             ],
             [
              1,
              "#f0f921"
             ]
            ],
            "type": "heatmap"
           }
          ],
          "heatmapgl": [
           {
            "colorbar": {
             "outlinewidth": 0,
             "ticks": ""
            },
            "colorscale": [
             [
              0,
              "#0d0887"
             ],
             [
              0.1111111111111111,
              "#46039f"
             ],
             [
              0.2222222222222222,
              "#7201a8"
             ],
             [
              0.3333333333333333,
              "#9c179e"
             ],
             [
              0.4444444444444444,
              "#bd3786"
             ],
             [
              0.5555555555555556,
              "#d8576b"
             ],
             [
              0.6666666666666666,
              "#ed7953"
             ],
             [
              0.7777777777777778,
              "#fb9f3a"
             ],
             [
              0.8888888888888888,
              "#fdca26"
             ],
             [
              1,
              "#f0f921"
             ]
            ],
            "type": "heatmapgl"
           }
          ],
          "histogram": [
           {
            "marker": {
             "pattern": {
              "fillmode": "overlay",
              "size": 10,
              "solidity": 0.2
             }
            },
            "type": "histogram"
           }
          ],
          "histogram2d": [
           {
            "colorbar": {
             "outlinewidth": 0,
             "ticks": ""
            },
            "colorscale": [
             [
              0,
              "#0d0887"
             ],
             [
              0.1111111111111111,
              "#46039f"
             ],
             [
              0.2222222222222222,
              "#7201a8"
             ],
             [
              0.3333333333333333,
              "#9c179e"
             ],
             [
              0.4444444444444444,
              "#bd3786"
             ],
             [
              0.5555555555555556,
              "#d8576b"
             ],
             [
              0.6666666666666666,
              "#ed7953"
             ],
             [
              0.7777777777777778,
              "#fb9f3a"
             ],
             [
              0.8888888888888888,
              "#fdca26"
             ],
             [
              1,
              "#f0f921"
             ]
            ],
            "type": "histogram2d"
           }
          ],
          "histogram2dcontour": [
           {
            "colorbar": {
             "outlinewidth": 0,
             "ticks": ""
            },
            "colorscale": [
             [
              0,
              "#0d0887"
             ],
             [
              0.1111111111111111,
              "#46039f"
             ],
             [
              0.2222222222222222,
              "#7201a8"
             ],
             [
              0.3333333333333333,
              "#9c179e"
             ],
             [
              0.4444444444444444,
              "#bd3786"
             ],
             [
              0.5555555555555556,
              "#d8576b"
             ],
             [
              0.6666666666666666,
              "#ed7953"
             ],
             [
              0.7777777777777778,
              "#fb9f3a"
             ],
             [
              0.8888888888888888,
              "#fdca26"
             ],
             [
              1,
              "#f0f921"
             ]
            ],
            "type": "histogram2dcontour"
           }
          ],
          "mesh3d": [
           {
            "colorbar": {
             "outlinewidth": 0,
             "ticks": ""
            },
            "type": "mesh3d"
           }
          ],
          "parcoords": [
           {
            "line": {
             "colorbar": {
              "outlinewidth": 0,
              "ticks": ""
             }
            },
            "type": "parcoords"
           }
          ],
          "pie": [
           {
            "automargin": true,
            "type": "pie"
           }
          ],
          "scatter": [
           {
            "fillpattern": {
             "fillmode": "overlay",
             "size": 10,
             "solidity": 0.2
            },
            "type": "scatter"
           }
          ],
          "scatter3d": [
           {
            "line": {
             "colorbar": {
              "outlinewidth": 0,
              "ticks": ""
             }
            },
            "marker": {
             "colorbar": {
              "outlinewidth": 0,
              "ticks": ""
             }
            },
            "type": "scatter3d"
           }
          ],
          "scattercarpet": [
           {
            "marker": {
             "colorbar": {
              "outlinewidth": 0,
              "ticks": ""
             }
            },
            "type": "scattercarpet"
           }
          ],
          "scattergeo": [
           {
            "marker": {
             "colorbar": {
              "outlinewidth": 0,
              "ticks": ""
             }
            },
            "type": "scattergeo"
           }
          ],
          "scattergl": [
           {
            "marker": {
             "colorbar": {
              "outlinewidth": 0,
              "ticks": ""
             }
            },
            "type": "scattergl"
           }
          ],
          "scattermapbox": [
           {
            "marker": {
             "colorbar": {
              "outlinewidth": 0,
              "ticks": ""
             }
            },
            "type": "scattermapbox"
           }
          ],
          "scatterpolar": [
           {
            "marker": {
             "colorbar": {
              "outlinewidth": 0,
              "ticks": ""
             }
            },
            "type": "scatterpolar"
           }
          ],
          "scatterpolargl": [
           {
            "marker": {
             "colorbar": {
              "outlinewidth": 0,
              "ticks": ""
             }
            },
            "type": "scatterpolargl"
           }
          ],
          "scatterternary": [
           {
            "marker": {
             "colorbar": {
              "outlinewidth": 0,
              "ticks": ""
             }
            },
            "type": "scatterternary"
           }
          ],
          "surface": [
           {
            "colorbar": {
             "outlinewidth": 0,
             "ticks": ""
            },
            "colorscale": [
             [
              0,
              "#0d0887"
             ],
             [
              0.1111111111111111,
              "#46039f"
             ],
             [
              0.2222222222222222,
              "#7201a8"
             ],
             [
              0.3333333333333333,
              "#9c179e"
             ],
             [
              0.4444444444444444,
              "#bd3786"
             ],
             [
              0.5555555555555556,
              "#d8576b"
             ],
             [
              0.6666666666666666,
              "#ed7953"
             ],
             [
              0.7777777777777778,
              "#fb9f3a"
             ],
             [
              0.8888888888888888,
              "#fdca26"
             ],
             [
              1,
              "#f0f921"
             ]
            ],
            "type": "surface"
           }
          ],
          "table": [
           {
            "cells": {
             "fill": {
              "color": "#EBF0F8"
             },
             "line": {
              "color": "white"
             }
            },
            "header": {
             "fill": {
              "color": "#C8D4E3"
             },
             "line": {
              "color": "white"
             }
            },
            "type": "table"
           }
          ]
         },
         "layout": {
          "annotationdefaults": {
           "arrowcolor": "#2a3f5f",
           "arrowhead": 0,
           "arrowwidth": 1
          },
          "autotypenumbers": "strict",
          "coloraxis": {
           "colorbar": {
            "outlinewidth": 0,
            "ticks": ""
           }
          },
          "colorscale": {
           "diverging": [
            [
             0,
             "#8e0152"
            ],
            [
             0.1,
             "#c51b7d"
            ],
            [
             0.2,
             "#de77ae"
            ],
            [
             0.3,
             "#f1b6da"
            ],
            [
             0.4,
             "#fde0ef"
            ],
            [
             0.5,
             "#f7f7f7"
            ],
            [
             0.6,
             "#e6f5d0"
            ],
            [
             0.7,
             "#b8e186"
            ],
            [
             0.8,
             "#7fbc41"
            ],
            [
             0.9,
             "#4d9221"
            ],
            [
             1,
             "#276419"
            ]
           ],
           "sequential": [
            [
             0,
             "#0d0887"
            ],
            [
             0.1111111111111111,
             "#46039f"
            ],
            [
             0.2222222222222222,
             "#7201a8"
            ],
            [
             0.3333333333333333,
             "#9c179e"
            ],
            [
             0.4444444444444444,
             "#bd3786"
            ],
            [
             0.5555555555555556,
             "#d8576b"
            ],
            [
             0.6666666666666666,
             "#ed7953"
            ],
            [
             0.7777777777777778,
             "#fb9f3a"
            ],
            [
             0.8888888888888888,
             "#fdca26"
            ],
            [
             1,
             "#f0f921"
            ]
           ],
           "sequentialminus": [
            [
             0,
             "#0d0887"
            ],
            [
             0.1111111111111111,
             "#46039f"
            ],
            [
             0.2222222222222222,
             "#7201a8"
            ],
            [
             0.3333333333333333,
             "#9c179e"
            ],
            [
             0.4444444444444444,
             "#bd3786"
            ],
            [
             0.5555555555555556,
             "#d8576b"
            ],
            [
             0.6666666666666666,
             "#ed7953"
            ],
            [
             0.7777777777777778,
             "#fb9f3a"
            ],
            [
             0.8888888888888888,
             "#fdca26"
            ],
            [
             1,
             "#f0f921"
            ]
           ]
          },
          "colorway": [
           "#636efa",
           "#EF553B",
           "#00cc96",
           "#ab63fa",
           "#FFA15A",
           "#19d3f3",
           "#FF6692",
           "#B6E880",
           "#FF97FF",
           "#FECB52"
          ],
          "font": {
           "color": "#2a3f5f"
          },
          "geo": {
           "bgcolor": "white",
           "lakecolor": "white",
           "landcolor": "#E5ECF6",
           "showlakes": true,
           "showland": true,
           "subunitcolor": "white"
          },
          "hoverlabel": {
           "align": "left"
          },
          "hovermode": "closest",
          "mapbox": {
           "style": "light"
          },
          "paper_bgcolor": "white",
          "plot_bgcolor": "#E5ECF6",
          "polar": {
           "angularaxis": {
            "gridcolor": "white",
            "linecolor": "white",
            "ticks": ""
           },
           "bgcolor": "#E5ECF6",
           "radialaxis": {
            "gridcolor": "white",
            "linecolor": "white",
            "ticks": ""
           }
          },
          "scene": {
           "xaxis": {
            "backgroundcolor": "#E5ECF6",
            "gridcolor": "white",
            "gridwidth": 2,
            "linecolor": "white",
            "showbackground": true,
            "ticks": "",
            "zerolinecolor": "white"
           },
           "yaxis": {
            "backgroundcolor": "#E5ECF6",
            "gridcolor": "white",
            "gridwidth": 2,
            "linecolor": "white",
            "showbackground": true,
            "ticks": "",
            "zerolinecolor": "white"
           },
           "zaxis": {
            "backgroundcolor": "#E5ECF6",
            "gridcolor": "white",
            "gridwidth": 2,
            "linecolor": "white",
            "showbackground": true,
            "ticks": "",
            "zerolinecolor": "white"
           }
          },
          "shapedefaults": {
           "line": {
            "color": "#2a3f5f"
           }
          },
          "ternary": {
           "aaxis": {
            "gridcolor": "white",
            "linecolor": "white",
            "ticks": ""
           },
           "baxis": {
            "gridcolor": "white",
            "linecolor": "white",
            "ticks": ""
           },
           "bgcolor": "#E5ECF6",
           "caxis": {
            "gridcolor": "white",
            "linecolor": "white",
            "ticks": ""
           }
          },
          "title": {
           "x": 0.05
          },
          "xaxis": {
           "automargin": true,
           "gridcolor": "white",
           "linecolor": "white",
           "ticks": "",
           "title": {
            "standoff": 15
           },
           "zerolinecolor": "white",
           "zerolinewidth": 2
          },
          "yaxis": {
           "automargin": true,
           "gridcolor": "white",
           "linecolor": "white",
           "ticks": "",
           "title": {
            "standoff": 15
           },
           "zerolinecolor": "white",
           "zerolinewidth": 2
          }
         }
        },
        "title": {
         "text": "Frequency of Ratings"
        },
        "xaxis": {
         "anchor": "y",
         "domain": [
          0,
          1
         ],
         "title": {
          "text": "Rating"
         }
        },
        "yaxis": {
         "anchor": "x",
         "domain": [
          0,
          1
         ],
         "title": {
          "text": "Frequency"
         }
        }
       }
      }
     },
     "metadata": {},
     "output_type": "display_data"
    }
   ],
   "source": [
    "fig = px.bar(rating_frequency, x='Rating', y='Frequency', \n",
    "             title='Frequency of Ratings', \n",
    "             labels={'Rating': 'Rating', 'Frequency': 'Frequency'},\n",
    "             text='Frequency')\n",
    "\n",
    "# Show the plot\n",
    "fig.show()"
   ]
  },
  {
   "cell_type": "markdown",
   "metadata": {},
   "source": [
    "## Step 3: Assessment of Missingness"
   ]
  },
  {
   "cell_type": "code",
   "execution_count": 27,
   "metadata": {
    "ExecuteTime": {
     "end_time": "2019-10-31T23:36:28.662099Z",
     "start_time": "2019-10-31T23:36:28.660016Z"
    }
   },
   "outputs": [
    {
     "name": "stdout",
     "output_type": "stream",
     "text": [
      "<class 'pandas.core.frame.DataFrame'>\n",
      "RangeIndex: 234429 entries, 0 to 234428\n",
      "Data columns (total 30 columns):\n",
      " #   Column                       Non-Null Count   Dtype  \n",
      "---  ------                       --------------   -----  \n",
      " 0   name                         234428 non-null  object \n",
      " 1   id                           234429 non-null  int64  \n",
      " 2   minutes                      234429 non-null  int64  \n",
      " 3   contributor_id               234429 non-null  int64  \n",
      " 4   submitted                    234429 non-null  object \n",
      " 5   tags                         234429 non-null  object \n",
      " 6   nutrition                    234429 non-null  object \n",
      " 7   n_steps                      234429 non-null  int64  \n",
      " 8   steps                        234429 non-null  object \n",
      " 9   description                  234315 non-null  object \n",
      " 10  ingredients                  234429 non-null  object \n",
      " 11  n_ingredients                234429 non-null  int64  \n",
      " 12  user_id                      234428 non-null  float64\n",
      " 13  date                         234428 non-null  object \n",
      " 14  rating                       219393 non-null  float64\n",
      " 15  review                       234371 non-null  object \n",
      " 16  calories (#)                 234429 non-null  float64\n",
      " 17  total fat (PDV)              234429 non-null  float64\n",
      " 18  sugar (PDV)                  234429 non-null  float64\n",
      " 19  sodium (PDV)                 234429 non-null  float64\n",
      " 20  protein (PDV)                234429 non-null  float64\n",
      " 21  saturated fat (PDV)          234429 non-null  float64\n",
      " 22  carbohydrates (PDV)          234429 non-null  float64\n",
      " 23  calories (#) (grams)         234429 non-null  float64\n",
      " 24  total fat (PDV) (grams)      234429 non-null  float64\n",
      " 25  sugar (PDV) (grams)          234429 non-null  float64\n",
      " 26  sodium (PDV) (grams)         234429 non-null  float64\n",
      " 27  protein (PDV) (grams)        234429 non-null  float64\n",
      " 28  saturated fat (PDV) (grams)  234429 non-null  float64\n",
      " 29  carbohydrates (PDV) (grams)  234429 non-null  float64\n",
      "dtypes: float64(16), int64(5), object(9)\n",
      "memory usage: 53.7+ MB\n"
     ]
    }
   ],
   "source": [
    "merged_df.info()"
   ]
  },
  {
   "cell_type": "code",
   "execution_count": 28,
   "metadata": {},
   "outputs": [
    {
     "name": "stdout",
     "output_type": "stream",
     "text": [
      "<class 'pandas.core.frame.DataFrame'>\n",
      "RangeIndex: 83782 entries, 0 to 83781\n",
      "Data columns (total 12 columns):\n",
      " #   Column          Non-Null Count  Dtype \n",
      "---  ------          --------------  ----- \n",
      " 0   name            83781 non-null  object\n",
      " 1   id              83782 non-null  int64 \n",
      " 2   minutes         83782 non-null  int64 \n",
      " 3   contributor_id  83782 non-null  int64 \n",
      " 4   submitted       83782 non-null  object\n",
      " 5   tags            83782 non-null  object\n",
      " 6   nutrition       83782 non-null  object\n",
      " 7   n_steps         83782 non-null  int64 \n",
      " 8   steps           83782 non-null  object\n",
      " 9   description     83712 non-null  object\n",
      " 10  ingredients     83782 non-null  object\n",
      " 11  n_ingredients   83782 non-null  int64 \n",
      "dtypes: int64(5), object(7)\n",
      "memory usage: 7.7+ MB\n"
     ]
    }
   ],
   "source": [
    "recipes_df.info()"
   ]
  },
  {
   "cell_type": "markdown",
   "metadata": {},
   "source": [
    "## Step 4: Hypothesis Testing"
   ]
  },
  {
   "cell_type": "code",
   "execution_count": 29,
   "metadata": {},
   "outputs": [
    {
     "ename": "KeyboardInterrupt",
     "evalue": "",
     "output_type": "error",
     "traceback": [
      "\u001b[0;31m---------------------------------------------------------------------------\u001b[0m",
      "\u001b[0;31mKeyboardInterrupt\u001b[0m                         Traceback (most recent call last)",
      "Cell \u001b[0;32mIn[29], line 39\u001b[0m\n\u001b[1;32m     37\u001b[0m \u001b[38;5;66;03m# Run the permutation test\u001b[39;00m\n\u001b[1;32m     38\u001b[0m num_permutations \u001b[38;5;241m=\u001b[39m \u001b[38;5;241m1000\u001b[39m\n\u001b[0;32m---> 39\u001b[0m null_distribution \u001b[38;5;241m=\u001b[39m \u001b[43mpermutation_test\u001b[49m\u001b[43m(\u001b[49m\u001b[43mmerged_df\u001b[49m\u001b[43m,\u001b[49m\u001b[43m \u001b[49m\u001b[43mobserved_tvd\u001b[49m\u001b[43m,\u001b[49m\u001b[43m \u001b[49m\u001b[43mnum_permutations\u001b[49m\u001b[43m)\u001b[49m\n\u001b[1;32m     41\u001b[0m \u001b[38;5;66;03m# Step 4: Compute the single p-value\u001b[39;00m\n\u001b[1;32m     42\u001b[0m p_value \u001b[38;5;241m=\u001b[39m (np\u001b[38;5;241m.\u001b[39msum(np\u001b[38;5;241m.\u001b[39marray(null_distribution) \u001b[38;5;241m>\u001b[39m\u001b[38;5;241m=\u001b[39m observed_tvd) \u001b[38;5;241m+\u001b[39m \u001b[38;5;241m1\u001b[39m) \u001b[38;5;241m/\u001b[39m (num_permutations \u001b[38;5;241m+\u001b[39m \u001b[38;5;241m1\u001b[39m)\n",
      "Cell \u001b[0;32mIn[29], line 29\u001b[0m, in \u001b[0;36mpermutation_test\u001b[0;34m(data, observed_tvd, num_permutations)\u001b[0m\n\u001b[1;32m     26\u001b[0m null_tvd \u001b[38;5;241m=\u001b[39m []\n\u001b[1;32m     27\u001b[0m \u001b[38;5;28;01mfor\u001b[39;00m _ \u001b[38;5;129;01min\u001b[39;00m \u001b[38;5;28mrange\u001b[39m(num_permutations):\n\u001b[1;32m     28\u001b[0m     \u001b[38;5;66;03m# Shuffle the ratings\u001b[39;00m\n\u001b[0;32m---> 29\u001b[0m     shuffled_data \u001b[38;5;241m=\u001b[39m \u001b[43mdata\u001b[49m\u001b[38;5;241;43m.\u001b[39;49m\u001b[43mcopy\u001b[49m\u001b[43m(\u001b[49m\u001b[43m)\u001b[49m\n\u001b[1;32m     30\u001b[0m     shuffled_data[\u001b[38;5;124m'\u001b[39m\u001b[38;5;124mrating\u001b[39m\u001b[38;5;124m'\u001b[39m] \u001b[38;5;241m=\u001b[39m np\u001b[38;5;241m.\u001b[39mrandom\u001b[38;5;241m.\u001b[39mpermutation(shuffled_data[\u001b[38;5;124m'\u001b[39m\u001b[38;5;124mrating\u001b[39m\u001b[38;5;124m'\u001b[39m])\n\u001b[1;32m     32\u001b[0m     \u001b[38;5;66;03m# Calculate the combined TVD for the shuffled data\u001b[39;00m\n",
      "File \u001b[0;32m~/miniforge3/envs/dsc80/lib/python3.12/site-packages/pandas/core/generic.py:6811\u001b[0m, in \u001b[0;36mNDFrame.copy\u001b[0;34m(self, deep)\u001b[0m\n\u001b[1;32m   6662\u001b[0m \u001b[38;5;129m@final\u001b[39m\n\u001b[1;32m   6663\u001b[0m \u001b[38;5;28;01mdef\u001b[39;00m \u001b[38;5;21mcopy\u001b[39m(\u001b[38;5;28mself\u001b[39m, deep: bool_t \u001b[38;5;241m|\u001b[39m \u001b[38;5;28;01mNone\u001b[39;00m \u001b[38;5;241m=\u001b[39m \u001b[38;5;28;01mTrue\u001b[39;00m) \u001b[38;5;241m-\u001b[39m\u001b[38;5;241m>\u001b[39m Self:\n\u001b[1;32m   6664\u001b[0m \u001b[38;5;250m    \u001b[39m\u001b[38;5;124;03m\"\"\"\u001b[39;00m\n\u001b[1;32m   6665\u001b[0m \u001b[38;5;124;03m    Make a copy of this object's indices and data.\u001b[39;00m\n\u001b[1;32m   6666\u001b[0m \n\u001b[0;32m   (...)\u001b[0m\n\u001b[1;32m   6809\u001b[0m \u001b[38;5;124;03m    dtype: int64\u001b[39;00m\n\u001b[1;32m   6810\u001b[0m \u001b[38;5;124;03m    \"\"\"\u001b[39;00m\n\u001b[0;32m-> 6811\u001b[0m     data \u001b[38;5;241m=\u001b[39m \u001b[38;5;28;43mself\u001b[39;49m\u001b[38;5;241;43m.\u001b[39;49m\u001b[43m_mgr\u001b[49m\u001b[38;5;241;43m.\u001b[39;49m\u001b[43mcopy\u001b[49m\u001b[43m(\u001b[49m\u001b[43mdeep\u001b[49m\u001b[38;5;241;43m=\u001b[39;49m\u001b[43mdeep\u001b[49m\u001b[43m)\u001b[49m\n\u001b[1;32m   6812\u001b[0m     \u001b[38;5;28mself\u001b[39m\u001b[38;5;241m.\u001b[39m_clear_item_cache()\n\u001b[1;32m   6813\u001b[0m     \u001b[38;5;28;01mreturn\u001b[39;00m \u001b[38;5;28mself\u001b[39m\u001b[38;5;241m.\u001b[39m_constructor_from_mgr(data, axes\u001b[38;5;241m=\u001b[39mdata\u001b[38;5;241m.\u001b[39maxes)\u001b[38;5;241m.\u001b[39m__finalize__(\n\u001b[1;32m   6814\u001b[0m         \u001b[38;5;28mself\u001b[39m, method\u001b[38;5;241m=\u001b[39m\u001b[38;5;124m\"\u001b[39m\u001b[38;5;124mcopy\u001b[39m\u001b[38;5;124m\"\u001b[39m\n\u001b[1;32m   6815\u001b[0m     )\n",
      "File \u001b[0;32m~/miniforge3/envs/dsc80/lib/python3.12/site-packages/pandas/core/internals/managers.py:604\u001b[0m, in \u001b[0;36mBaseBlockManager.copy\u001b[0;34m(self, deep)\u001b[0m\n\u001b[1;32m    601\u001b[0m         res\u001b[38;5;241m.\u001b[39m_blklocs \u001b[38;5;241m=\u001b[39m \u001b[38;5;28mself\u001b[39m\u001b[38;5;241m.\u001b[39m_blklocs\u001b[38;5;241m.\u001b[39mcopy()\n\u001b[1;32m    603\u001b[0m \u001b[38;5;28;01mif\u001b[39;00m deep:\n\u001b[0;32m--> 604\u001b[0m     \u001b[43mres\u001b[49m\u001b[38;5;241;43m.\u001b[39;49m\u001b[43m_consolidate_inplace\u001b[49m\u001b[43m(\u001b[49m\u001b[43m)\u001b[49m\n\u001b[1;32m    605\u001b[0m \u001b[38;5;28;01mreturn\u001b[39;00m res\n",
      "File \u001b[0;32m~/miniforge3/envs/dsc80/lib/python3.12/site-packages/pandas/core/internals/managers.py:1788\u001b[0m, in \u001b[0;36mBlockManager._consolidate_inplace\u001b[0;34m(self)\u001b[0m\n\u001b[1;32m   1782\u001b[0m \u001b[38;5;28;01mdef\u001b[39;00m \u001b[38;5;21m_consolidate_inplace\u001b[39m(\u001b[38;5;28mself\u001b[39m) \u001b[38;5;241m-\u001b[39m\u001b[38;5;241m>\u001b[39m \u001b[38;5;28;01mNone\u001b[39;00m:\n\u001b[1;32m   1783\u001b[0m     \u001b[38;5;66;03m# In general, _consolidate_inplace should only be called via\u001b[39;00m\n\u001b[1;32m   1784\u001b[0m     \u001b[38;5;66;03m#  DataFrame._consolidate_inplace, otherwise we will fail to invalidate\u001b[39;00m\n\u001b[1;32m   1785\u001b[0m     \u001b[38;5;66;03m#  the DataFrame's _item_cache. The exception is for newly-created\u001b[39;00m\n\u001b[1;32m   1786\u001b[0m     \u001b[38;5;66;03m#  BlockManager objects not yet attached to a DataFrame.\u001b[39;00m\n\u001b[1;32m   1787\u001b[0m     \u001b[38;5;28;01mif\u001b[39;00m \u001b[38;5;129;01mnot\u001b[39;00m \u001b[38;5;28mself\u001b[39m\u001b[38;5;241m.\u001b[39mis_consolidated():\n\u001b[0;32m-> 1788\u001b[0m         \u001b[38;5;28mself\u001b[39m\u001b[38;5;241m.\u001b[39mblocks \u001b[38;5;241m=\u001b[39m \u001b[43m_consolidate\u001b[49m\u001b[43m(\u001b[49m\u001b[38;5;28;43mself\u001b[39;49m\u001b[38;5;241;43m.\u001b[39;49m\u001b[43mblocks\u001b[49m\u001b[43m)\u001b[49m\n\u001b[1;32m   1789\u001b[0m         \u001b[38;5;28mself\u001b[39m\u001b[38;5;241m.\u001b[39m_is_consolidated \u001b[38;5;241m=\u001b[39m \u001b[38;5;28;01mTrue\u001b[39;00m\n\u001b[1;32m   1790\u001b[0m         \u001b[38;5;28mself\u001b[39m\u001b[38;5;241m.\u001b[39m_known_consolidated \u001b[38;5;241m=\u001b[39m \u001b[38;5;28;01mTrue\u001b[39;00m\n",
      "File \u001b[0;32m~/miniforge3/envs/dsc80/lib/python3.12/site-packages/pandas/core/internals/managers.py:2269\u001b[0m, in \u001b[0;36m_consolidate\u001b[0;34m(blocks)\u001b[0m\n\u001b[1;32m   2267\u001b[0m new_blocks: \u001b[38;5;28mlist\u001b[39m[Block] \u001b[38;5;241m=\u001b[39m []\n\u001b[1;32m   2268\u001b[0m \u001b[38;5;28;01mfor\u001b[39;00m (_can_consolidate, dtype), group_blocks \u001b[38;5;129;01min\u001b[39;00m grouper:\n\u001b[0;32m-> 2269\u001b[0m     merged_blocks, _ \u001b[38;5;241m=\u001b[39m \u001b[43m_merge_blocks\u001b[49m\u001b[43m(\u001b[49m\n\u001b[1;32m   2270\u001b[0m \u001b[43m        \u001b[49m\u001b[38;5;28;43mlist\u001b[39;49m\u001b[43m(\u001b[49m\u001b[43mgroup_blocks\u001b[49m\u001b[43m)\u001b[49m\u001b[43m,\u001b[49m\u001b[43m \u001b[49m\u001b[43mdtype\u001b[49m\u001b[38;5;241;43m=\u001b[39;49m\u001b[43mdtype\u001b[49m\u001b[43m,\u001b[49m\u001b[43m \u001b[49m\u001b[43mcan_consolidate\u001b[49m\u001b[38;5;241;43m=\u001b[39;49m\u001b[43m_can_consolidate\u001b[49m\n\u001b[1;32m   2271\u001b[0m \u001b[43m    \u001b[49m\u001b[43m)\u001b[49m\n\u001b[1;32m   2272\u001b[0m     new_blocks \u001b[38;5;241m=\u001b[39m extend_blocks(merged_blocks, new_blocks)\n\u001b[1;32m   2273\u001b[0m \u001b[38;5;28;01mreturn\u001b[39;00m \u001b[38;5;28mtuple\u001b[39m(new_blocks)\n",
      "File \u001b[0;32m~/miniforge3/envs/dsc80/lib/python3.12/site-packages/pandas/core/internals/managers.py:2294\u001b[0m, in \u001b[0;36m_merge_blocks\u001b[0;34m(blocks, dtype, can_consolidate)\u001b[0m\n\u001b[1;32m   2287\u001b[0m new_values: ArrayLike\n\u001b[1;32m   2289\u001b[0m \u001b[38;5;28;01mif\u001b[39;00m \u001b[38;5;28misinstance\u001b[39m(blocks[\u001b[38;5;241m0\u001b[39m]\u001b[38;5;241m.\u001b[39mdtype, np\u001b[38;5;241m.\u001b[39mdtype):\n\u001b[1;32m   2290\u001b[0m     \u001b[38;5;66;03m# error: List comprehension has incompatible type List[Union[ndarray,\u001b[39;00m\n\u001b[1;32m   2291\u001b[0m     \u001b[38;5;66;03m# ExtensionArray]]; expected List[Union[complex, generic,\u001b[39;00m\n\u001b[1;32m   2292\u001b[0m     \u001b[38;5;66;03m# Sequence[Union[int, float, complex, str, bytes, generic]],\u001b[39;00m\n\u001b[1;32m   2293\u001b[0m     \u001b[38;5;66;03m# Sequence[Sequence[Any]], SupportsArray]]\u001b[39;00m\n\u001b[0;32m-> 2294\u001b[0m     new_values \u001b[38;5;241m=\u001b[39m \u001b[43mnp\u001b[49m\u001b[38;5;241;43m.\u001b[39;49m\u001b[43mvstack\u001b[49m\u001b[43m(\u001b[49m\u001b[43m[\u001b[49m\u001b[43mb\u001b[49m\u001b[38;5;241;43m.\u001b[39;49m\u001b[43mvalues\u001b[49m\u001b[43m \u001b[49m\u001b[38;5;28;43;01mfor\u001b[39;49;00m\u001b[43m \u001b[49m\u001b[43mb\u001b[49m\u001b[43m \u001b[49m\u001b[38;5;129;43;01min\u001b[39;49;00m\u001b[43m \u001b[49m\u001b[43mblocks\u001b[49m\u001b[43m]\u001b[49m\u001b[43m)\u001b[49m  \u001b[38;5;66;03m# type: ignore[misc]\u001b[39;00m\n\u001b[1;32m   2295\u001b[0m \u001b[38;5;28;01melse\u001b[39;00m:\n\u001b[1;32m   2296\u001b[0m     bvals \u001b[38;5;241m=\u001b[39m [blk\u001b[38;5;241m.\u001b[39mvalues \u001b[38;5;28;01mfor\u001b[39;00m blk \u001b[38;5;129;01min\u001b[39;00m blocks]\n",
      "File \u001b[0;32m~/miniforge3/envs/dsc80/lib/python3.12/site-packages/numpy/_core/shape_base.py:291\u001b[0m, in \u001b[0;36mvstack\u001b[0;34m(tup, dtype, casting)\u001b[0m\n\u001b[1;32m    289\u001b[0m \u001b[38;5;28;01mif\u001b[39;00m \u001b[38;5;129;01mnot\u001b[39;00m \u001b[38;5;28misinstance\u001b[39m(arrs, \u001b[38;5;28mtuple\u001b[39m):\n\u001b[1;32m    290\u001b[0m     arrs \u001b[38;5;241m=\u001b[39m (arrs,)\n\u001b[0;32m--> 291\u001b[0m \u001b[38;5;28;01mreturn\u001b[39;00m \u001b[43m_nx\u001b[49m\u001b[38;5;241;43m.\u001b[39;49m\u001b[43mconcatenate\u001b[49m\u001b[43m(\u001b[49m\u001b[43marrs\u001b[49m\u001b[43m,\u001b[49m\u001b[43m \u001b[49m\u001b[38;5;241;43m0\u001b[39;49m\u001b[43m,\u001b[49m\u001b[43m \u001b[49m\u001b[43mdtype\u001b[49m\u001b[38;5;241;43m=\u001b[39;49m\u001b[43mdtype\u001b[49m\u001b[43m,\u001b[49m\u001b[43m \u001b[49m\u001b[43mcasting\u001b[49m\u001b[38;5;241;43m=\u001b[39;49m\u001b[43mcasting\u001b[49m\u001b[43m)\u001b[49m\n",
      "\u001b[0;31mKeyboardInterrupt\u001b[0m: "
     ]
    }
   ],
   "source": [
    "import pandas as pd\n",
    "import numpy as np\n",
    "\n",
    "# Step 1: Merge datasets on recipe_id\n",
    "merged_df = recipes_interactions_df.merge(recipes_df, left_on='recipe_id', right_on='id')\n",
    "\n",
    "# Step 2: Compute the combined observed TVD\n",
    "def calculate_combined_tvd(data):\n",
    "    grouped = data.groupby('n_ingredients')['rating']\n",
    "    overall_distribution = data['rating'].value_counts(normalize=True).sort_index()\n",
    "    \n",
    "    # Compute combined TVD as the sum of group contributions\n",
    "    tvd = 0\n",
    "    for group, ratings in grouped:\n",
    "        group_distribution = ratings.value_counts(normalize=True).sort_index()\n",
    "        # Align and normalize to handle missing values\n",
    "        group_distribution, overall_distribution = group_distribution.align(overall_distribution, fill_value=0)\n",
    "        tvd += 0.5 * np.abs(group_distribution - overall_distribution).sum()\n",
    "    return tvd\n",
    "\n",
    "# Calculate the observed TVD\n",
    "observed_tvd = calculate_combined_tvd(merged_df)\n",
    "\n",
    "# Step 3: Perform permutation test using np.random.permutation\n",
    "def permutation_test(data, observed_tvd, num_permutations=1000):\n",
    "    null_tvd = []\n",
    "    for _ in range(num_permutations):\n",
    "        # Shuffle the ratings\n",
    "        shuffled_data = data.copy()\n",
    "        shuffled_data['rating'] = np.random.permutation(shuffled_data['rating'])\n",
    "        \n",
    "        # Calculate the combined TVD for the shuffled data\n",
    "        shuffled_tvd = calculate_combined_tvd(shuffled_data)\n",
    "        null_tvd.append(shuffled_tvd)\n",
    "    return null_tvd\n",
    "\n",
    "# Run the permutation test\n",
    "num_permutations = 1000\n",
    "null_distribution = permutation_test(merged_df, observed_tvd, num_permutations)\n",
    "\n",
    "# Step 4: Compute the single p-value\n",
    "p_value = (np.sum(np.array(null_distribution) >= observed_tvd) + 1) / (num_permutations + 1)\n",
    "\n",
    "# Display results\n",
    "print(f\"Observed TVD: {observed_tvd:.4f}\")\n",
    "print(f\"p-value: {p_value:.4f}\")\n"
   ]
  },
  {
   "cell_type": "code",
   "execution_count": 124,
   "metadata": {
    "ExecuteTime": {
     "end_time": "2019-10-31T23:36:28.657068Z",
     "start_time": "2019-10-31T23:36:28.654650Z"
    }
   },
   "outputs": [],
   "source": [
    "# TODO"
   ]
  },
  {
   "cell_type": "markdown",
   "metadata": {},
   "source": [
    "## Step 6: Baseline Model"
   ]
  },
  {
   "cell_type": "code",
   "execution_count": 125,
   "metadata": {
    "ExecuteTime": {
     "end_time": "2019-10-31T23:36:28.662099Z",
     "start_time": "2019-10-31T23:36:28.660016Z"
    }
   },
   "outputs": [],
   "source": [
    "# TODO"
   ]
  },
  {
   "cell_type": "markdown",
   "metadata": {},
   "source": [
    "## Step 7: Final Model"
   ]
  },
  {
   "cell_type": "code",
   "execution_count": 126,
   "metadata": {
    "ExecuteTime": {
     "end_time": "2019-10-31T23:36:28.662099Z",
     "start_time": "2019-10-31T23:36:28.660016Z"
    }
   },
   "outputs": [],
   "source": [
    "# TODO"
   ]
  },
  {
   "cell_type": "markdown",
   "metadata": {},
   "source": [
    "## Step 8: Fairness Analysis"
   ]
  },
  {
   "cell_type": "code",
   "execution_count": 127,
   "metadata": {
    "ExecuteTime": {
     "end_time": "2019-10-31T23:36:28.666489Z",
     "start_time": "2019-10-31T23:36:28.664381Z"
    }
   },
   "outputs": [],
   "source": [
    "# TODO"
   ]
  }
 ],
 "metadata": {
  "kernelspec": {
   "display_name": "Python 3 (ipykernel)",
   "language": "python",
   "name": "python3"
  },
  "language_info": {
   "codemirror_mode": {
    "name": "ipython",
    "version": 3
   },
   "file_extension": ".py",
   "mimetype": "text/x-python",
   "name": "python",
   "nbconvert_exporter": "python",
   "pygments_lexer": "ipython3",
   "version": "3.12.6"
  }
 },
 "nbformat": 4,
 "nbformat_minor": 2
}
